{
 "cells": [
  {
   "cell_type": "code",
   "execution_count": 1,
   "metadata": {},
   "outputs": [],
   "source": [
    "import pandas as pd\n",
    "import matplotlib.pyplot as plt\n",
    "import numpy as np\n",
    "import seaborn as sns\n"
   ]
  },
  {
   "cell_type": "code",
   "execution_count": null,
   "metadata": {},
   "outputs": [
    {
     "data": {
      "text/plain": [
       "Index(['country', 'food_category', 'consumption', 'co2_emmission'], dtype='object')"
      ]
     },
     "execution_count": 3,
     "metadata": {},
     "output_type": "execute_result"
    }
   ],
   "source": [
    "carbon_data=pd.read_csv(\"https://raw.githubusercontent.com/rfordatascience/tidytuesday/master/data/2020/2020-02-18/food_consumption.csv\")\n",
    "carbon_data.columns"
   ]
  },
  {
   "cell_type": "code",
   "execution_count": 4,
   "metadata": {},
   "outputs": [
    {
     "data": {
      "text/html": [
       "<div>\n",
       "<style scoped>\n",
       "    .dataframe tbody tr th:only-of-type {\n",
       "        vertical-align: middle;\n",
       "    }\n",
       "\n",
       "    .dataframe tbody tr th {\n",
       "        vertical-align: top;\n",
       "    }\n",
       "\n",
       "    .dataframe thead th {\n",
       "        text-align: right;\n",
       "    }\n",
       "</style>\n",
       "<table border=\"1\" class=\"dataframe\">\n",
       "  <thead>\n",
       "    <tr style=\"text-align: right;\">\n",
       "      <th></th>\n",
       "      <th>country</th>\n",
       "      <th>food_category</th>\n",
       "      <th>consumption</th>\n",
       "      <th>co2_emmission</th>\n",
       "    </tr>\n",
       "  </thead>\n",
       "  <tbody>\n",
       "    <tr>\n",
       "      <th>0</th>\n",
       "      <td>Argentina</td>\n",
       "      <td>Pork</td>\n",
       "      <td>10.51</td>\n",
       "      <td>37.20</td>\n",
       "    </tr>\n",
       "    <tr>\n",
       "      <th>1</th>\n",
       "      <td>Argentina</td>\n",
       "      <td>Poultry</td>\n",
       "      <td>38.66</td>\n",
       "      <td>41.53</td>\n",
       "    </tr>\n",
       "    <tr>\n",
       "      <th>2</th>\n",
       "      <td>Argentina</td>\n",
       "      <td>Beef</td>\n",
       "      <td>55.48</td>\n",
       "      <td>1712.00</td>\n",
       "    </tr>\n",
       "    <tr>\n",
       "      <th>3</th>\n",
       "      <td>Argentina</td>\n",
       "      <td>Lamb &amp; Goat</td>\n",
       "      <td>1.56</td>\n",
       "      <td>54.63</td>\n",
       "    </tr>\n",
       "    <tr>\n",
       "      <th>4</th>\n",
       "      <td>Argentina</td>\n",
       "      <td>Fish</td>\n",
       "      <td>4.36</td>\n",
       "      <td>6.96</td>\n",
       "    </tr>\n",
       "  </tbody>\n",
       "</table>\n",
       "</div>"
      ],
      "text/plain": [
       "     country food_category  consumption  co2_emmission\n",
       "0  Argentina          Pork        10.51          37.20\n",
       "1  Argentina       Poultry        38.66          41.53\n",
       "2  Argentina          Beef        55.48        1712.00\n",
       "3  Argentina   Lamb & Goat         1.56          54.63\n",
       "4  Argentina          Fish         4.36           6.96"
      ]
     },
     "execution_count": 4,
     "metadata": {},
     "output_type": "execute_result"
    }
   ],
   "source": [
    "carbon_data.head()"
   ]
  },
  {
   "cell_type": "code",
   "execution_count": 5,
   "metadata": {},
   "outputs": [
    {
     "data": {
      "text/plain": [
       "country          0\n",
       "food_category    0\n",
       "consumption      0\n",
       "co2_emmission    0\n",
       "dtype: int64"
      ]
     },
     "execution_count": 5,
     "metadata": {},
     "output_type": "execute_result"
    }
   ],
   "source": [
    "carbon_data.isnull().sum()"
   ]
  },
  {
   "cell_type": "code",
   "execution_count": 6,
   "metadata": {},
   "outputs": [
    {
     "name": "stdout",
     "output_type": "stream",
     "text": [
      "<class 'pandas.core.frame.DataFrame'>\n",
      "RangeIndex: 1430 entries, 0 to 1429\n",
      "Data columns (total 4 columns):\n",
      " #   Column         Non-Null Count  Dtype  \n",
      "---  ------         --------------  -----  \n",
      " 0   country        1430 non-null   object \n",
      " 1   food_category  1430 non-null   object \n",
      " 2   consumption    1430 non-null   float64\n",
      " 3   co2_emmission  1430 non-null   float64\n",
      "dtypes: float64(2), object(2)\n",
      "memory usage: 44.8+ KB\n"
     ]
    }
   ],
   "source": [
    "carbon_data.info()"
   ]
  },
  {
   "cell_type": "code",
   "execution_count": 8,
   "metadata": {},
   "outputs": [
    {
     "data": {
      "text/html": [
       "<div>\n",
       "<style scoped>\n",
       "    .dataframe tbody tr th:only-of-type {\n",
       "        vertical-align: middle;\n",
       "    }\n",
       "\n",
       "    .dataframe tbody tr th {\n",
       "        vertical-align: top;\n",
       "    }\n",
       "\n",
       "    .dataframe thead th {\n",
       "        text-align: right;\n",
       "    }\n",
       "</style>\n",
       "<table border=\"1\" class=\"dataframe\">\n",
       "  <thead>\n",
       "    <tr style=\"text-align: right;\">\n",
       "      <th></th>\n",
       "      <th>consumption</th>\n",
       "      <th>co2_emmission</th>\n",
       "    </tr>\n",
       "  </thead>\n",
       "  <tbody>\n",
       "    <tr>\n",
       "      <th>count</th>\n",
       "      <td>1430.00</td>\n",
       "      <td>1430.00</td>\n",
       "    </tr>\n",
       "    <tr>\n",
       "      <th>mean</th>\n",
       "      <td>28.11</td>\n",
       "      <td>74.38</td>\n",
       "    </tr>\n",
       "    <tr>\n",
       "      <th>std</th>\n",
       "      <td>49.82</td>\n",
       "      <td>152.10</td>\n",
       "    </tr>\n",
       "    <tr>\n",
       "      <th>min</th>\n",
       "      <td>0.00</td>\n",
       "      <td>0.00</td>\n",
       "    </tr>\n",
       "    <tr>\n",
       "      <th>25%</th>\n",
       "      <td>2.36</td>\n",
       "      <td>5.21</td>\n",
       "    </tr>\n",
       "    <tr>\n",
       "      <th>50%</th>\n",
       "      <td>8.89</td>\n",
       "      <td>16.53</td>\n",
       "    </tr>\n",
       "    <tr>\n",
       "      <th>75%</th>\n",
       "      <td>28.13</td>\n",
       "      <td>62.60</td>\n",
       "    </tr>\n",
       "    <tr>\n",
       "      <th>max</th>\n",
       "      <td>430.76</td>\n",
       "      <td>1712.00</td>\n",
       "    </tr>\n",
       "  </tbody>\n",
       "</table>\n",
       "</div>"
      ],
      "text/plain": [
       "       consumption  co2_emmission\n",
       "count      1430.00        1430.00\n",
       "mean         28.11          74.38\n",
       "std          49.82         152.10\n",
       "min           0.00           0.00\n",
       "25%           2.36           5.21\n",
       "50%           8.89          16.53\n",
       "75%          28.13          62.60\n",
       "max         430.76        1712.00"
      ]
     },
     "execution_count": 8,
     "metadata": {},
     "output_type": "execute_result"
    }
   ],
   "source": [
    "carbon_data.describe().round(2)"
   ]
  },
  {
   "cell_type": "markdown",
   "metadata": {},
   "source": [
    "Exploratory Data Analysis (EDA)\n",
    "Now that we understand the dataset, let’s move forward with:\n",
    "\n",
    "Filter Data for East African Countries (Kenya, Uganda, Tanzania, Rwanda, Ethiopia).\n",
    "\n",
    "Check Unique Food Categories – What foods are listed?\n",
    "\n",
    "Summarize CO2 Emissions Per Country – Average CO2 emissions per country.\n",
    "\n",
    "Summarize CO2 Emissions Per Food Category – Which foods have the highest footprint?\n"
   ]
  },
  {
   "cell_type": "code",
   "execution_count": 11,
   "metadata": {},
   "outputs": [
    {
     "data": {
      "text/html": [
       "<div>\n",
       "<style scoped>\n",
       "    .dataframe tbody tr th:only-of-type {\n",
       "        vertical-align: middle;\n",
       "    }\n",
       "\n",
       "    .dataframe tbody tr th {\n",
       "        vertical-align: top;\n",
       "    }\n",
       "\n",
       "    .dataframe thead th {\n",
       "        text-align: right;\n",
       "    }\n",
       "</style>\n",
       "<table border=\"1\" class=\"dataframe\">\n",
       "  <thead>\n",
       "    <tr style=\"text-align: right;\">\n",
       "      <th></th>\n",
       "      <th>country</th>\n",
       "      <th>food_category</th>\n",
       "      <th>consumption</th>\n",
       "      <th>co2_emmission</th>\n",
       "    </tr>\n",
       "  </thead>\n",
       "  <tbody>\n",
       "    <tr>\n",
       "      <th>902</th>\n",
       "      <td>Kenya</td>\n",
       "      <td>Pork</td>\n",
       "      <td>0.29</td>\n",
       "      <td>1.03</td>\n",
       "    </tr>\n",
       "    <tr>\n",
       "      <th>903</th>\n",
       "      <td>Kenya</td>\n",
       "      <td>Poultry</td>\n",
       "      <td>0.47</td>\n",
       "      <td>0.50</td>\n",
       "    </tr>\n",
       "    <tr>\n",
       "      <th>904</th>\n",
       "      <td>Kenya</td>\n",
       "      <td>Beef</td>\n",
       "      <td>9.54</td>\n",
       "      <td>294.38</td>\n",
       "    </tr>\n",
       "    <tr>\n",
       "      <th>905</th>\n",
       "      <td>Kenya</td>\n",
       "      <td>Lamb &amp; Goat</td>\n",
       "      <td>1.86</td>\n",
       "      <td>65.14</td>\n",
       "    </tr>\n",
       "    <tr>\n",
       "      <th>906</th>\n",
       "      <td>Kenya</td>\n",
       "      <td>Fish</td>\n",
       "      <td>4.27</td>\n",
       "      <td>6.82</td>\n",
       "    </tr>\n",
       "    <tr>\n",
       "      <th>907</th>\n",
       "      <td>Kenya</td>\n",
       "      <td>Eggs</td>\n",
       "      <td>1.84</td>\n",
       "      <td>1.69</td>\n",
       "    </tr>\n",
       "    <tr>\n",
       "      <th>908</th>\n",
       "      <td>Kenya</td>\n",
       "      <td>Milk - inc. cheese</td>\n",
       "      <td>94.86</td>\n",
       "      <td>135.12</td>\n",
       "    </tr>\n",
       "    <tr>\n",
       "      <th>909</th>\n",
       "      <td>Kenya</td>\n",
       "      <td>Wheat and Wheat Products</td>\n",
       "      <td>34.65</td>\n",
       "      <td>6.61</td>\n",
       "    </tr>\n",
       "    <tr>\n",
       "      <th>910</th>\n",
       "      <td>Kenya</td>\n",
       "      <td>Rice</td>\n",
       "      <td>12.94</td>\n",
       "      <td>16.56</td>\n",
       "    </tr>\n",
       "    <tr>\n",
       "      <th>911</th>\n",
       "      <td>Kenya</td>\n",
       "      <td>Soybeans</td>\n",
       "      <td>0.20</td>\n",
       "      <td>0.09</td>\n",
       "    </tr>\n",
       "    <tr>\n",
       "      <th>912</th>\n",
       "      <td>Kenya</td>\n",
       "      <td>Nuts inc. Peanut Butter</td>\n",
       "      <td>1.64</td>\n",
       "      <td>2.90</td>\n",
       "    </tr>\n",
       "    <tr>\n",
       "      <th>1089</th>\n",
       "      <td>Uganda</td>\n",
       "      <td>Pork</td>\n",
       "      <td>3.37</td>\n",
       "      <td>11.93</td>\n",
       "    </tr>\n",
       "    <tr>\n",
       "      <th>1090</th>\n",
       "      <td>Uganda</td>\n",
       "      <td>Poultry</td>\n",
       "      <td>1.51</td>\n",
       "      <td>1.62</td>\n",
       "    </tr>\n",
       "    <tr>\n",
       "      <th>1091</th>\n",
       "      <td>Uganda</td>\n",
       "      <td>Beef</td>\n",
       "      <td>5.15</td>\n",
       "      <td>158.92</td>\n",
       "    </tr>\n",
       "    <tr>\n",
       "      <th>1092</th>\n",
       "      <td>Uganda</td>\n",
       "      <td>Lamb &amp; Goat</td>\n",
       "      <td>1.25</td>\n",
       "      <td>43.77</td>\n",
       "    </tr>\n",
       "    <tr>\n",
       "      <th>1093</th>\n",
       "      <td>Uganda</td>\n",
       "      <td>Fish</td>\n",
       "      <td>12.50</td>\n",
       "      <td>19.96</td>\n",
       "    </tr>\n",
       "    <tr>\n",
       "      <th>1094</th>\n",
       "      <td>Uganda</td>\n",
       "      <td>Eggs</td>\n",
       "      <td>0.97</td>\n",
       "      <td>0.89</td>\n",
       "    </tr>\n",
       "    <tr>\n",
       "      <th>1095</th>\n",
       "      <td>Uganda</td>\n",
       "      <td>Milk - inc. cheese</td>\n",
       "      <td>37.27</td>\n",
       "      <td>53.09</td>\n",
       "    </tr>\n",
       "    <tr>\n",
       "      <th>1096</th>\n",
       "      <td>Uganda</td>\n",
       "      <td>Wheat and Wheat Products</td>\n",
       "      <td>10.14</td>\n",
       "      <td>1.93</td>\n",
       "    </tr>\n",
       "    <tr>\n",
       "      <th>1097</th>\n",
       "      <td>Uganda</td>\n",
       "      <td>Rice</td>\n",
       "      <td>4.64</td>\n",
       "      <td>5.94</td>\n",
       "    </tr>\n",
       "    <tr>\n",
       "      <th>1098</th>\n",
       "      <td>Uganda</td>\n",
       "      <td>Soybeans</td>\n",
       "      <td>0.01</td>\n",
       "      <td>0.00</td>\n",
       "    </tr>\n",
       "    <tr>\n",
       "      <th>1099</th>\n",
       "      <td>Uganda</td>\n",
       "      <td>Nuts inc. Peanut Butter</td>\n",
       "      <td>3.77</td>\n",
       "      <td>6.67</td>\n",
       "    </tr>\n",
       "    <tr>\n",
       "      <th>1122</th>\n",
       "      <td>Tanzania</td>\n",
       "      <td>Pork</td>\n",
       "      <td>0.32</td>\n",
       "      <td>1.13</td>\n",
       "    </tr>\n",
       "    <tr>\n",
       "      <th>1123</th>\n",
       "      <td>Tanzania</td>\n",
       "      <td>Poultry</td>\n",
       "      <td>1.84</td>\n",
       "      <td>1.98</td>\n",
       "    </tr>\n",
       "    <tr>\n",
       "      <th>1124</th>\n",
       "      <td>Tanzania</td>\n",
       "      <td>Beef</td>\n",
       "      <td>6.09</td>\n",
       "      <td>187.92</td>\n",
       "    </tr>\n",
       "    <tr>\n",
       "      <th>1125</th>\n",
       "      <td>Tanzania</td>\n",
       "      <td>Lamb &amp; Goat</td>\n",
       "      <td>1.28</td>\n",
       "      <td>44.83</td>\n",
       "    </tr>\n",
       "    <tr>\n",
       "      <th>1126</th>\n",
       "      <td>Tanzania</td>\n",
       "      <td>Fish</td>\n",
       "      <td>5.50</td>\n",
       "      <td>8.78</td>\n",
       "    </tr>\n",
       "    <tr>\n",
       "      <th>1127</th>\n",
       "      <td>Tanzania</td>\n",
       "      <td>Eggs</td>\n",
       "      <td>0.58</td>\n",
       "      <td>0.53</td>\n",
       "    </tr>\n",
       "    <tr>\n",
       "      <th>1128</th>\n",
       "      <td>Tanzania</td>\n",
       "      <td>Milk - inc. cheese</td>\n",
       "      <td>40.29</td>\n",
       "      <td>57.39</td>\n",
       "    </tr>\n",
       "    <tr>\n",
       "      <th>1129</th>\n",
       "      <td>Tanzania</td>\n",
       "      <td>Wheat and Wheat Products</td>\n",
       "      <td>15.94</td>\n",
       "      <td>3.04</td>\n",
       "    </tr>\n",
       "    <tr>\n",
       "      <th>1130</th>\n",
       "      <td>Tanzania</td>\n",
       "      <td>Rice</td>\n",
       "      <td>21.01</td>\n",
       "      <td>26.89</td>\n",
       "    </tr>\n",
       "    <tr>\n",
       "      <th>1131</th>\n",
       "      <td>Tanzania</td>\n",
       "      <td>Soybeans</td>\n",
       "      <td>0.04</td>\n",
       "      <td>0.02</td>\n",
       "    </tr>\n",
       "    <tr>\n",
       "      <th>1132</th>\n",
       "      <td>Tanzania</td>\n",
       "      <td>Nuts inc. Peanut Butter</td>\n",
       "      <td>5.94</td>\n",
       "      <td>10.51</td>\n",
       "    </tr>\n",
       "    <tr>\n",
       "      <th>1177</th>\n",
       "      <td>Ethiopia</td>\n",
       "      <td>Pork</td>\n",
       "      <td>0.02</td>\n",
       "      <td>0.07</td>\n",
       "    </tr>\n",
       "    <tr>\n",
       "      <th>1178</th>\n",
       "      <td>Ethiopia</td>\n",
       "      <td>Poultry</td>\n",
       "      <td>0.66</td>\n",
       "      <td>0.71</td>\n",
       "    </tr>\n",
       "    <tr>\n",
       "      <th>1179</th>\n",
       "      <td>Ethiopia</td>\n",
       "      <td>Beef</td>\n",
       "      <td>3.61</td>\n",
       "      <td>111.40</td>\n",
       "    </tr>\n",
       "    <tr>\n",
       "      <th>1180</th>\n",
       "      <td>Ethiopia</td>\n",
       "      <td>Lamb &amp; Goat</td>\n",
       "      <td>1.57</td>\n",
       "      <td>54.98</td>\n",
       "    </tr>\n",
       "    <tr>\n",
       "      <th>1181</th>\n",
       "      <td>Ethiopia</td>\n",
       "      <td>Fish</td>\n",
       "      <td>0.24</td>\n",
       "      <td>0.38</td>\n",
       "    </tr>\n",
       "    <tr>\n",
       "      <th>1182</th>\n",
       "      <td>Ethiopia</td>\n",
       "      <td>Eggs</td>\n",
       "      <td>0.36</td>\n",
       "      <td>0.33</td>\n",
       "    </tr>\n",
       "    <tr>\n",
       "      <th>1183</th>\n",
       "      <td>Ethiopia</td>\n",
       "      <td>Milk - inc. cheese</td>\n",
       "      <td>44.14</td>\n",
       "      <td>62.87</td>\n",
       "    </tr>\n",
       "    <tr>\n",
       "      <th>1184</th>\n",
       "      <td>Ethiopia</td>\n",
       "      <td>Wheat and Wheat Products</td>\n",
       "      <td>31.26</td>\n",
       "      <td>5.96</td>\n",
       "    </tr>\n",
       "    <tr>\n",
       "      <th>1185</th>\n",
       "      <td>Ethiopia</td>\n",
       "      <td>Rice</td>\n",
       "      <td>2.25</td>\n",
       "      <td>2.88</td>\n",
       "    </tr>\n",
       "    <tr>\n",
       "      <th>1186</th>\n",
       "      <td>Ethiopia</td>\n",
       "      <td>Soybeans</td>\n",
       "      <td>0.45</td>\n",
       "      <td>0.20</td>\n",
       "    </tr>\n",
       "    <tr>\n",
       "      <th>1187</th>\n",
       "      <td>Ethiopia</td>\n",
       "      <td>Nuts inc. Peanut Butter</td>\n",
       "      <td>1.21</td>\n",
       "      <td>2.14</td>\n",
       "    </tr>\n",
       "    <tr>\n",
       "      <th>1276</th>\n",
       "      <td>Rwanda</td>\n",
       "      <td>Pork</td>\n",
       "      <td>0.76</td>\n",
       "      <td>2.69</td>\n",
       "    </tr>\n",
       "    <tr>\n",
       "      <th>1277</th>\n",
       "      <td>Rwanda</td>\n",
       "      <td>Poultry</td>\n",
       "      <td>1.34</td>\n",
       "      <td>1.44</td>\n",
       "    </tr>\n",
       "    <tr>\n",
       "      <th>1278</th>\n",
       "      <td>Rwanda</td>\n",
       "      <td>Beef</td>\n",
       "      <td>2.53</td>\n",
       "      <td>78.07</td>\n",
       "    </tr>\n",
       "    <tr>\n",
       "      <th>1279</th>\n",
       "      <td>Rwanda</td>\n",
       "      <td>Lamb &amp; Goat</td>\n",
       "      <td>1.93</td>\n",
       "      <td>67.59</td>\n",
       "    </tr>\n",
       "    <tr>\n",
       "      <th>1280</th>\n",
       "      <td>Rwanda</td>\n",
       "      <td>Fish</td>\n",
       "      <td>3.88</td>\n",
       "      <td>6.20</td>\n",
       "    </tr>\n",
       "    <tr>\n",
       "      <th>1281</th>\n",
       "      <td>Rwanda</td>\n",
       "      <td>Eggs</td>\n",
       "      <td>0.16</td>\n",
       "      <td>0.15</td>\n",
       "    </tr>\n",
       "    <tr>\n",
       "      <th>1282</th>\n",
       "      <td>Rwanda</td>\n",
       "      <td>Milk - inc. cheese</td>\n",
       "      <td>7.23</td>\n",
       "      <td>10.30</td>\n",
       "    </tr>\n",
       "    <tr>\n",
       "      <th>1283</th>\n",
       "      <td>Rwanda</td>\n",
       "      <td>Wheat and Wheat Products</td>\n",
       "      <td>11.34</td>\n",
       "      <td>2.16</td>\n",
       "    </tr>\n",
       "    <tr>\n",
       "      <th>1284</th>\n",
       "      <td>Rwanda</td>\n",
       "      <td>Rice</td>\n",
       "      <td>8.70</td>\n",
       "      <td>11.13</td>\n",
       "    </tr>\n",
       "    <tr>\n",
       "      <th>1285</th>\n",
       "      <td>Rwanda</td>\n",
       "      <td>Soybeans</td>\n",
       "      <td>1.93</td>\n",
       "      <td>0.87</td>\n",
       "    </tr>\n",
       "    <tr>\n",
       "      <th>1286</th>\n",
       "      <td>Rwanda</td>\n",
       "      <td>Nuts inc. Peanut Butter</td>\n",
       "      <td>0.58</td>\n",
       "      <td>1.03</td>\n",
       "    </tr>\n",
       "  </tbody>\n",
       "</table>\n",
       "</div>"
      ],
      "text/plain": [
       "       country             food_category  consumption  co2_emmission\n",
       "902      Kenya                      Pork         0.29           1.03\n",
       "903      Kenya                   Poultry         0.47           0.50\n",
       "904      Kenya                      Beef         9.54         294.38\n",
       "905      Kenya               Lamb & Goat         1.86          65.14\n",
       "906      Kenya                      Fish         4.27           6.82\n",
       "907      Kenya                      Eggs         1.84           1.69\n",
       "908      Kenya        Milk - inc. cheese        94.86         135.12\n",
       "909      Kenya  Wheat and Wheat Products        34.65           6.61\n",
       "910      Kenya                      Rice        12.94          16.56\n",
       "911      Kenya                  Soybeans         0.20           0.09\n",
       "912      Kenya   Nuts inc. Peanut Butter         1.64           2.90\n",
       "1089    Uganda                      Pork         3.37          11.93\n",
       "1090    Uganda                   Poultry         1.51           1.62\n",
       "1091    Uganda                      Beef         5.15         158.92\n",
       "1092    Uganda               Lamb & Goat         1.25          43.77\n",
       "1093    Uganda                      Fish        12.50          19.96\n",
       "1094    Uganda                      Eggs         0.97           0.89\n",
       "1095    Uganda        Milk - inc. cheese        37.27          53.09\n",
       "1096    Uganda  Wheat and Wheat Products        10.14           1.93\n",
       "1097    Uganda                      Rice         4.64           5.94\n",
       "1098    Uganda                  Soybeans         0.01           0.00\n",
       "1099    Uganda   Nuts inc. Peanut Butter         3.77           6.67\n",
       "1122  Tanzania                      Pork         0.32           1.13\n",
       "1123  Tanzania                   Poultry         1.84           1.98\n",
       "1124  Tanzania                      Beef         6.09         187.92\n",
       "1125  Tanzania               Lamb & Goat         1.28          44.83\n",
       "1126  Tanzania                      Fish         5.50           8.78\n",
       "1127  Tanzania                      Eggs         0.58           0.53\n",
       "1128  Tanzania        Milk - inc. cheese        40.29          57.39\n",
       "1129  Tanzania  Wheat and Wheat Products        15.94           3.04\n",
       "1130  Tanzania                      Rice        21.01          26.89\n",
       "1131  Tanzania                  Soybeans         0.04           0.02\n",
       "1132  Tanzania   Nuts inc. Peanut Butter         5.94          10.51\n",
       "1177  Ethiopia                      Pork         0.02           0.07\n",
       "1178  Ethiopia                   Poultry         0.66           0.71\n",
       "1179  Ethiopia                      Beef         3.61         111.40\n",
       "1180  Ethiopia               Lamb & Goat         1.57          54.98\n",
       "1181  Ethiopia                      Fish         0.24           0.38\n",
       "1182  Ethiopia                      Eggs         0.36           0.33\n",
       "1183  Ethiopia        Milk - inc. cheese        44.14          62.87\n",
       "1184  Ethiopia  Wheat and Wheat Products        31.26           5.96\n",
       "1185  Ethiopia                      Rice         2.25           2.88\n",
       "1186  Ethiopia                  Soybeans         0.45           0.20\n",
       "1187  Ethiopia   Nuts inc. Peanut Butter         1.21           2.14\n",
       "1276    Rwanda                      Pork         0.76           2.69\n",
       "1277    Rwanda                   Poultry         1.34           1.44\n",
       "1278    Rwanda                      Beef         2.53          78.07\n",
       "1279    Rwanda               Lamb & Goat         1.93          67.59\n",
       "1280    Rwanda                      Fish         3.88           6.20\n",
       "1281    Rwanda                      Eggs         0.16           0.15\n",
       "1282    Rwanda        Milk - inc. cheese         7.23          10.30\n",
       "1283    Rwanda  Wheat and Wheat Products        11.34           2.16\n",
       "1284    Rwanda                      Rice         8.70          11.13\n",
       "1285    Rwanda                  Soybeans         1.93           0.87\n",
       "1286    Rwanda   Nuts inc. Peanut Butter         0.58           1.03"
      ]
     },
     "execution_count": 11,
     "metadata": {},
     "output_type": "execute_result"
    }
   ],
   "source": [
    "# Filter data for East African countries\n",
    "east_african_countries = ['Kenya', 'Uganda', 'Tanzania', 'Rwanda', 'Ethiopia']\n",
    "east_africa_data = carbon_data[carbon_data['country'].isin(east_african_countries)]\n",
    "east_africa_data\n",
    "\n"
   ]
  },
  {
   "cell_type": "code",
   "execution_count": 12,
   "metadata": {},
   "outputs": [
    {
     "data": {
      "text/plain": [
       "array(['Pork', 'Poultry', 'Beef', 'Lamb & Goat', 'Fish', 'Eggs',\n",
       "       'Milk - inc. cheese', 'Wheat and Wheat Products', 'Rice',\n",
       "       'Soybeans', 'Nuts inc. Peanut Butter'], dtype=object)"
      ]
     },
     "execution_count": 12,
     "metadata": {},
     "output_type": "execute_result"
    }
   ],
   "source": [
    "# Check unique food categories\n",
    "unique_food_categories = east_africa_data['food_category'].unique()\n",
    "unique_food_categories\n"
   ]
  },
  {
   "cell_type": "code",
   "execution_count": 13,
   "metadata": {},
   "outputs": [
    {
     "data": {
      "text/plain": [
       "country\n",
       "Ethiopia    21.99\n",
       "Kenya       48.26\n",
       "Rwanda      16.51\n",
       "Tanzania    31.18\n",
       "Uganda      27.70\n",
       "Name: co2_emmission, dtype: float64"
      ]
     },
     "execution_count": 13,
     "metadata": {},
     "output_type": "execute_result"
    }
   ],
   "source": [
    "# Summarize CO2 emissions per country\n",
    "co2_emissions_per_country = east_africa_data.groupby('country')['co2_emmission'].mean().round(2)\n",
    "co2_emissions_per_country\n"
   ]
  },
  {
   "cell_type": "code",
   "execution_count": 14,
   "metadata": {},
   "outputs": [
    {
     "data": {
      "text/plain": [
       "food_category\n",
       "Beef                        830.69\n",
       "Milk - inc. cheese          318.77\n",
       "Lamb & Goat                 276.31\n",
       "Rice                         63.40\n",
       "Fish                         42.14\n",
       "Nuts inc. Peanut Butter      23.25\n",
       "Wheat and Wheat Products     19.70\n",
       "Pork                         16.85\n",
       "Poultry                       6.25\n",
       "Eggs                          3.59\n",
       "Soybeans                      1.18\n",
       "Name: co2_emmission, dtype: float64"
      ]
     },
     "execution_count": 14,
     "metadata": {},
     "output_type": "execute_result"
    }
   ],
   "source": [
    "# Summarize CO2 emissions per food category\n",
    "co2_emissions_per_food_category = east_africa_data.groupby('food_category')['co2_emmission'].sum().sort_values(ascending=False).round(2)\n",
    "co2_emissions_per_food_category"
   ]
  },
  {
   "cell_type": "markdown",
   "metadata": {},
   "source": [
    "CO2 Emissions Per Person by Food Category in East Africa\n",
    "\n",
    "Goal: Compare the average CO2 emissions per food category in Kenya, Uganda, Tanzania, Rwanda, and Ethiopia.\n",
    "\n",
    "Approach:\n",
    "Filter the dataset for the five East African countries.\n",
    "\n",
    "Group by food_category and compute the average CO2 emissions for each category.\n",
    "\n",
    "Create a bar chart to visualize the differences.\n",
    "\n",
    "Interpret insights: Which foods have the highest carbon footprint? Which are the lowest?\n"
   ]
  },
  {
   "cell_type": "code",
   "execution_count": 15,
   "metadata": {
    "vscode": {
     "languageId": "ruby"
    }
   },
   "outputs": [
    {
     "data": {
      "text/plain": [
       "food_category\n",
       "Beef                        166.14\n",
       "Milk - inc. cheese           63.75\n",
       "Lamb & Goat                  55.26\n",
       "Rice                         12.68\n",
       "Fish                          8.43\n",
       "Nuts inc. Peanut Butter       4.65\n",
       "Wheat and Wheat Products      3.94\n",
       "Pork                          3.37\n",
       "Poultry                       1.25\n",
       "Eggs                          0.72\n",
       "Soybeans                      0.24\n",
       "Name: co2_emmission, dtype: float64"
      ]
     },
     "execution_count": 15,
     "metadata": {},
     "output_type": "execute_result"
    }
   ],
   "source": [
    "# Group by food_category and compute the average CO2 emissions for each category\n",
    "avg_co2_emissions_per_food_category = east_africa_data.groupby('food_category')['co2_emmission'].mean().sort_values(ascending=False).round(2)\n",
    "avg_co2_emissions_per_food_category"
   ]
  },
  {
   "cell_type": "code",
   "execution_count": 16,
   "metadata": {
    "vscode": {
     "languageId": "ruby"
    }
   },
   "outputs": [
    {
     "name": "stderr",
     "output_type": "stream",
     "text": [
      "C:\\Users\\Admin\\AppData\\Local\\Temp\\ipykernel_9884\\1798797434.py:3: FutureWarning: \n",
      "\n",
      "Passing `palette` without assigning `hue` is deprecated and will be removed in v0.14.0. Assign the `y` variable to `hue` and set `legend=False` for the same effect.\n",
      "\n",
      "  sns.barplot(x=avg_co2_emissions_per_food_category.values, y=avg_co2_emissions_per_food_category.index, palette='viridis')\n"
     ]
    },
    {
     "data": {
      "image/png": "[encoded data removed]",
      "text/plain": [
       "<Figure size 1200x800 with 1 Axes>"
      ]
     },
     "metadata": {},
     "output_type": "display_data"
    }
   ],
   "source": [
    "# Create a bar chart to visualize the differences\n",
    "plt.figure(figsize=(12, 8))\n",
    "sns.barplot(x=avg_co2_emissions_per_food_category.values, y=avg_co2_emissions_per_food_category.index, palette='viridis')\n",
    "plt.xlabel('Average CO2 Emissions (kg CO2 per person per year)')\n",
    "plt.ylabel('Food Category')\n",
    "plt.title('Average CO2 Emissions Per Food Category in East Africa')\n",
    "plt.show()\n"
   ]
  },
  {
   "cell_type": "markdown",
   "metadata": {},
   "source": [
    "Highlighting Differences in Specific Food Products\n",
    "\n",
    "Goal: Identify a food product where there is a significant difference in CO2 emissions across these five countries.\n",
    "\n",
    "Approach:\n",
    "\n",
    "Pick a food category (e.g., Beef, Dairy, Rice, etc.).\n",
    "\n",
    "Compare CO2 emissions per country for this category.\n",
    "\n",
    "Create a bar chart to highlight the differences.\n",
    "\n",
    "Interpret insights: Why might these differences exist? \n"
   ]
  },
  {
   "cell_type": "code",
   "execution_count": 17,
   "metadata": {},
   "outputs": [
    {
     "name": "stderr",
     "output_type": "stream",
     "text": [
      "C:\\Users\\Admin\\AppData\\Local\\Temp\\ipykernel_9884\\4159329434.py:7: FutureWarning: \n",
      "\n",
      "Passing `palette` without assigning `hue` is deprecated and will be removed in v0.14.0. Assign the `x` variable to `hue` and set `legend=False` for the same effect.\n",
      "\n",
      "  sns.barplot(x='country', y='co2_emmission', data=beef_data, palette='viridis')\n"
     ]
    },
    {
     "data": {
      "image/png": "[encoded data removed]",
      "text/plain": [
       "<Figure size 1000x600 with 1 Axes>"
      ]
     },
     "metadata": {},
     "output_type": "display_data"
    }
   ],
   "source": [
    "# Filter data for the chosen food category\n",
    "food_category = 'Beef'\n",
    "beef_data = east_africa_data[east_africa_data['food_category'] == food_category]\n",
    "\n",
    "# Create a bar chart to compare CO2 emissions per country for the chosen food category\n",
    "plt.figure(figsize=(10, 6))\n",
    "sns.barplot(x='country', y='co2_emmission', data=beef_data, palette='viridis')\n",
    "plt.xlabel('Country')\n",
    "plt.ylabel('CO2 Emissions (kg CO2 per person per year)')\n",
    "plt.title(f'CO2 Emissions from {food_category} Consumption in East African Countries')\n",
    "plt.show()"
   ]
  },
  {
   "cell_type": "markdown",
   "metadata": {},
   "source": [
    "Food Consumption of Animal vs. Non-Animal Products\n",
    "\n",
    "Goal: Compare the carbon footprint of animal-based vs. plant-based food consumption.\n",
    "\n",
    "\n",
    "Approach:\n",
    "\n",
    "Categorize food products into animal-based (e.g., beef, dairy, poultry, fish) and plant-based (e.g., grains, vegetables, legumes).\n",
    "\n",
    "Aggregate total CO2 emissions for each category.\n",
    "\n",
    "Visualize using a bar chart or pie chart (showing % of total emissions).\n",
    "\n",
    "Interpret insights:\n",
    "\n",
    "Do animal-based foods contribute significantly more to emissions?\n",
    "\n",
    "Which type of food has the highest/lowest impact?\n",
    "\n",
    "Could shifting to plant-based diets reduce emissions in East Africa?"
   ]
  },
  {
   "cell_type": "code",
   "execution_count": null,
   "metadata": {
    "vscode": {
     "languageId": "ruby"
    }
   },
   "outputs": [
    {
     "data": {
      "text/html": [
       "<div>\n",
       "<style scoped>\n",
       "    .dataframe tbody tr th:only-of-type {\n",
       "        vertical-align: middle;\n",
       "    }\n",
       "\n",
       "    .dataframe tbody tr th {\n",
       "        vertical-align: top;\n",
       "    }\n",
       "\n",
       "    .dataframe thead th {\n",
       "        text-align: right;\n",
       "    }\n",
       "</style>\n",
       "<table border=\"1\" class=\"dataframe\">\n",
       "  <thead>\n",
       "    <tr style=\"text-align: right;\">\n",
       "      <th></th>\n",
       "      <th>Category</th>\n",
       "      <th>Total CO2 Emissions</th>\n",
       "    </tr>\n",
       "  </thead>\n",
       "  <tbody>\n",
       "    <tr>\n",
       "      <th>0</th>\n",
       "      <td>Animal-Based</td>\n",
       "      <td>1494.60</td>\n",
       "    </tr>\n",
       "    <tr>\n",
       "      <th>1</th>\n",
       "      <td>Plant-Based</td>\n",
       "      <td>107.53</td>\n",
       "    </tr>\n",
       "  </tbody>\n",
       "</table>\n",
       "</div>"
      ],
      "text/plain": [
       "       Category  Total CO2 Emissions\n",
       "0  Animal-Based              1494.60\n",
       "1   Plant-Based               107.53"
      ]
     },
     "execution_count": 29,
     "metadata": {},
     "output_type": "execute_result"
    }
   ],
   "source": [
    "# Categorize food products\n",
    "animal_based = ['Beef', 'Milk - inc. cheese', 'Poultry', 'Fish', 'Eggs', 'Lamb & Goat', 'Pork']\n",
    "plant_based = ['Rice', 'Wheat and Wheat Products', 'Soybeans', 'Nuts inc. Peanut Butter']\n",
    "\n",
    "# Aggregate total CO2 emissions for each category\n",
    "animal_based_emissions = east_africa_data[east_africa_data['food_category'].isin(animal_based)]['co2_emmission'].sum()\n",
    "plant_based_emissions = east_africa_data[east_africa_data['food_category'].isin(plant_based)]['co2_emmission'].sum()\n",
    "\n",
    "# Create a dataframe for visualization\n",
    "emissions_data = pd.DataFrame({\n",
    "    'Category': ['Animal-Based', 'Plant-Based'],\n",
    "    'Total CO2 Emissions': [animal_based_emissions, plant_based_emissions]\n",
    "})\n",
    "\n",
    "emissions_data\n",
    "\n"
   ]
  },
  {
   "cell_type": "code",
   "execution_count": 32,
   "metadata": {},
   "outputs": [
    {
     "name": "stdout",
     "output_type": "stream",
     "text": [
      "The food category with the highest CO2 emissions is Beef with 166.14 kg CO2 per person per year.\n",
      "The food category with the lowest CO2 emissions is Soybeans with 0.24 kg CO2 per person per year.\n"
     ]
    }
   ],
   "source": [
    "# Find the food category with the highest CO2 emissions\n",
    "highest_impact_food = avg_co2_emissions_per_food_category.idxmax()\n",
    "highest_impact_value = avg_co2_emissions_per_food_category.max()\n",
    "\n",
    "# Find the food category with the lowest CO2 emissions\n",
    "lowest_impact_food = avg_co2_emissions_per_food_category.idxmin()\n",
    "lowest_impact_value = avg_co2_emissions_per_food_category.min()\n",
    "\n",
    "print(f\"The food category with the highest CO2 emissions is {highest_impact_food} with {highest_impact_value} kg CO2 per person per year.\")\n",
    "print(f\"The food category with the lowest CO2 emissions is {lowest_impact_food} with {lowest_impact_value} kg CO2 per person per year.\")"
   ]
  },
  {
   "cell_type": "code",
   "execution_count": 28,
   "metadata": {},
   "outputs": [
    {
     "name": "stderr",
     "output_type": "stream",
     "text": [
      "C:\\Users\\Admin\\AppData\\Local\\Temp\\ipykernel_9884\\217960143.py:3: FutureWarning: \n",
      "\n",
      "Passing `palette` without assigning `hue` is deprecated and will be removed in v0.14.0. Assign the `x` variable to `hue` and set `legend=False` for the same effect.\n",
      "\n",
      "  sns.barplot(x='Category', y='Total CO2 Emissions', data=emissions_data, palette='viridis')\n"
     ]
    },
    {
     "data": {
      "image/png": "[encoded data removed]",
      "text/plain": [
       "<Figure size 700x500 with 1 Axes>"
      ]
     },
     "metadata": {},
     "output_type": "display_data"
    }
   ],
   "source": [
    "# Visualize using a bar chart\n",
    "plt.figure(figsize=(7, 5))\n",
    "sns.barplot(x='Category', y='Total CO2 Emissions', data=emissions_data, palette='viridis')\n",
    "plt.xlabel('Food Category')\n",
    "plt.ylabel('Total CO2 Emissions (kg CO2 per person per year)')\n",
    "plt.title('Total CO2 Emissions: Animal-Based vs. Plant-Based Food Consumption in East Africa')\n",
    "plt.show()\n",
    "\n"
   ]
  },
  {
   "cell_type": "code",
   "execution_count": 24,
   "metadata": {},
   "outputs": [
    {
     "data": {
      "image/png": "[encoded data removed]",
      "text/plain": [
       "<Figure size 500x600 with 1 Axes>"
      ]
     },
     "metadata": {},
     "output_type": "display_data"
    }
   ],
   "source": [
    "# Visualize using a pie chart\n",
    "plt.figure(figsize=(5, 6))\n",
    "plt.pie(emissions_data['Total CO2 Emissions'], labels=emissions_data['Category'], autopct='%1.1f%%', startangle=140, colors=sns.color_palette('viridis', 2))\n",
    "plt.title('Percentage of Total CO2 Emissions: Animal-Based vs. Plant-Based Food Consumption in East Africa')\n",
    "plt.show()"
   ]
  },
  {
   "cell_type": "markdown",
   "metadata": {},
   "source": [
    "Mapping Beef's Contribution to CO₂ Emissions\n",
    "\n",
    "Goal: Visualize how much CO₂ emissions (kg/person/year) come from beef consumption across different countries.\n",
    "\n",
    "Approach:\n",
    "\n",
    "Filter the dataset for the food category = Beef.\n",
    "\n",
    "Group by country and calculate total or average CO₂ emissions from beef.\n",
    "\n",
    "Create a map visualization (Choropleth map or heatmap) to show the distribution.\n",
    "\n",
    "Interpret insights:\n",
    "\n",
    "Which country has the highest emissions from beef?\n",
    "\n",
    "Are East African countries high or low compared to global trends?\n",
    "\n",
    "What could be the reasons behind the differences (e.g., diet preferences, livestock industry)?"
   ]
  },
  {
   "cell_type": "code",
   "execution_count": 33,
   "metadata": {},
   "outputs": [
    {
     "data": {
      "application/vnd.plotly.v1+json": {
       "config": {
        "plotlyServerURL": "https://plot.ly"
       },
       "data": [
        {
         "coloraxis": "coloraxis",
         "geo": "geo",
         "hovertemplate": "<b>%{hovertext}</b><br><br>country=%{location}<br>co2_emmission=%{z}<extra></extra>",
         "hovertext": [
          "Albania",
          "Algeria",
          "Angola",
          "Argentina",
          "Armenia",
          "Australia",
          "Austria",
          "Bahamas",
          "Bangladesh",
          "Barbados",
          "Belarus",
          "Belgium",
          "Belize",
          "Bermuda",
          "Bolivia",
          "Bosnia and Herzegovina",
          "Botswana",
          "Brazil",
          "Bulgaria",
          "Cambodia",
          "Cameroon",
          "Canada",
          "Chile",
          "China",
          "Colombia",
          "Congo",
          "Costa Rica",
          "Croatia",
          "Cuba",
          "Cyprus",
          "Czech Republic",
          "Denmark",
          "Ecuador",
          "Egypt",
          "El Salvador",
          "Estonia",
          "Ethiopia",
          "Fiji",
          "Finland",
          "France",
          "French Polynesia",
          "Gambia",
          "Georgia",
          "Germany",
          "Ghana",
          "Greece",
          "Grenada",
          "Guatemala",
          "Guinea",
          "Honduras",
          "Hong Kong SAR. China",
          "Hungary",
          "Iceland",
          "India",
          "Indonesia",
          "Iran",
          "Ireland",
          "Israel",
          "Italy",
          "Jamaica",
          "Japan",
          "Jordan",
          "Kazakhstan",
          "Kenya",
          "Kuwait",
          "Latvia",
          "Liberia",
          "Lithuania",
          "Luxembourg",
          "Macedonia",
          "Madagascar",
          "Malawi",
          "Malaysia",
          "Maldives",
          "Malta",
          "Mauritius",
          "Mexico",
          "Morocco",
          "Mozambique",
          "Myanmar",
          "Namibia",
          "Nepal",
          "Netherlands",
          "New Caledonia",
          "New Zealand",
          "Nicaragua",
          "Niger",
          "Nigeria",
          "Norway",
          "Oman",
          "Pakistan",
          "Panama",
          "Paraguay",
          "Peru",
          "Philippines",
          "Poland",
          "Portugal",
          "Romania",
          "Russia",
          "Rwanda",
          "Saudi Arabia",
          "Senegal",
          "Serbia",
          "Sierra Leone",
          "Slovakia",
          "Slovenia",
          "South Africa",
          "South Korea",
          "Spain",
          "Sri Lanka",
          "Swaziland",
          "Sweden",
          "Switzerland",
          "Taiwan. ROC",
          "Tanzania",
          "Thailand",
          "Togo",
          "Trinidad and Tobago",
          "Tunisia",
          "Turkey",
          "USA",
          "Uganda",
          "Ukraine",
          "United Arab Emirates",
          "United Kingdom",
          "Uruguay",
          "Venezuela",
          "Vietnam",
          "Zambia",
          "Zimbabwe"
         ],
         "locationmode": "country names",
         "locations": [
          "Albania",
          "Algeria",
          "Angola",
          "Argentina",
          "Armenia",
          "Australia",
          "Austria",
          "Bahamas",
          "Bangladesh",
          "Barbados",
          "Belarus",
          "Belgium",
          "Belize",
          "Bermuda",
          "Bolivia",
          "Bosnia and Herzegovina",
          "Botswana",
          "Brazil",
          "Bulgaria",
          "Cambodia",
          "Cameroon",
          "Canada",
          "Chile",
          "China",
          "Colombia",
          "Congo",
          "Costa Rica",
          "Croatia",
          "Cuba",
          "Cyprus",
          "Czech Republic",
          "Denmark",
          "Ecuador",
          "Egypt",
          "El Salvador",
          "Estonia",
          "Ethiopia",
          "Fiji",
          "Finland",
          "France",
          "French Polynesia",
          "Gambia",
          "Georgia",
          "Germany",
          "Ghana",
          "Greece",
          "Grenada",
          "Guatemala",
          "Guinea",
          "Honduras",
          "Hong Kong SAR. China",
          "Hungary",
          "Iceland",
          "India",
          "Indonesia",
          "Iran",
          "Ireland",
          "Israel",
          "Italy",
          "Jamaica",
          "Japan",
          "Jordan",
          "Kazakhstan",
          "Kenya",
          "Kuwait",
          "Latvia",
          "Liberia",
          "Lithuania",
          "Luxembourg",
          "Macedonia",
          "Madagascar",
          "Malawi",
          "Malaysia",
          "Maldives",
          "Malta",
          "Mauritius",
          "Mexico",
          "Morocco",
          "Mozambique",
          "Myanmar",
          "Namibia",
          "Nepal",
          "Netherlands",
          "New Caledonia",
          "New Zealand",
          "Nicaragua",
          "Niger",
          "Nigeria",
          "Norway",
          "Oman",
          "Pakistan",
          "Panama",
          "Paraguay",
          "Peru",
          "Philippines",
          "Poland",
          "Portugal",
          "Romania",
          "Russia",
          "Rwanda",
          "Saudi Arabia",
          "Senegal",
          "Serbia",
          "Sierra Leone",
          "Slovakia",
          "Slovenia",
          "South Africa",
          "South Korea",
          "Spain",
          "Sri Lanka",
          "Swaziland",
          "Sweden",
          "Switzerland",
          "Taiwan. ROC",
          "Tanzania",
          "Thailand",
          "Togo",
          "Trinidad and Tobago",
          "Tunisia",
          "Turkey",
          "USA",
          "Uganda",
          "Ukraine",
          "United Arab Emirates",
          "United Kingdom",
          "Uruguay",
          "Venezuela",
          "Vietnam",
          "Zambia",
          "Zimbabwe"
         ],
         "name": "",
         "type": "choropleth",
         "z": {
          "bdata": "ZmZmZmayhUCamZmZmZllQIXrUbgePXBAAAAAAADAmkCQwvUoXPWCQGZmZmZmU5BAMzMzMzOHgEDsUbgehTWDQAAAAAAAwENAw/UoXI9SeUCkcD0K13+AQClcj8L1JH5A16NwPQq/YkDsUbgehfePQClcj8L1EoNAH4XrUbiWcUCPwvUoXEduQEfhehSu7JJAj8L1KFyfXUCF61G4HrViQPYoXI/CFWBAmpmZmZkrjUBdj8L1KAKHQEjhehSuv2NAPQrXo3CNf0CPwvUoXMdgQOxRuB6FX31AMzMzMzPvd0D2KFyPwqVoQD0K16NwVWZASOF6FK5vb0D2KFyPwnGLQGZmZmZmBIBAMzMzMzPXeEAzMzMzM/NmQKRwPQrXu2tAmpmZmZnZW0CjcD0K10dxQB+F61G4iIJApHA9Ctf1hkCuR+F6FMyNQJmZmZmZqVBAXI/C9ShMZ0A9CtejcGF5QFK4HoXr0UBAKVyPwvUMf0DhehSuR7FaQJqZmZmZmWVAPQrXo3AlaECkcD0K17trQAAAAAAA5ohAUrgeheshY0Bcj8L1KMR5QD0K16Nw/ThAexSuR+H6U0CuR+F6FJ5bQJDC9ShcjYVAH4XrUbjAi0BH4XoUru+BQHE9CtejoF5AmpmZmZmlcUDsUbgehaNlQEfhehSui4ZArkfhehRmckDhehSuRyF5QPYoXI/CtWNAUrgehesROECamZmZmVFhQArXo3A90IxAmpmZmZmpbUBI4XoUrvdsQOF6FK5HIVJArkfhehQmaUDNzMzMzDRyQB+F61G4iIJAexSuR+EaZ0DNzMzMzJB9QDMzMzMzA29A7FG4HoULQECuR+F6FA5jQK5H4XoU7lxA16NwPQpvbkCuR+F6FAqBQArXo3A9/n5AUrgeheuvhUAfhetRuD5iQM3MzMzMTHFAmpmZmZn5UUDhehSuRx+DQDMzMzMzH31AH4XrUbgCcUAAAAAAAKyDQLkehetRGoNA16NwPQoXYkBSuB6F61FfQPYoXI/C5VFA9ihcj8K5f0AAAAAAAHBiQPYoXI/CX4BAFK5H4XqEU0ApXI/C9eBoQHE9CtejkGZAmpmZmZkxa0AUrkfherROQM3MzMzMBGRASOF6FK7FgUApXI/C9WKBQFK4HoXrBXxAH4XrUbhud0AK16NwPUpFQDMzMzMzH31AUrgeheuzh0C4HoXrUYCEQHA9CtejGGRAPQrXo3B9Z0AAAAAAAMBTQHsUrkfhmkdAhetRuB6lZ0AUrkfhelRlQNejcD0Kc3ZAXI/C9Sh5kUA+CtejcN1jQKNwPQrXR3FA4XoUrkfBZUAzMzMzM3mBQEfhehSuD4xA4XoUrkf3iEDD9Shcj7JsQF2PwvUoXGJAPQrXo3BtbEA=",
          "dtype": "f8"
         }
        }
       ],
       "layout": {
        "coloraxis": {
         "colorbar": {
          "title": {
           "text": "co2_emmission"
          }
         },
         "colorscale": [
          [
           0,
           "#0d0887"
          ],
          [
           0.1111111111111111,
           "#46039f"
          ],
          [
           0.2222222222222222,
           "#7201a8"
          ],
          [
           0.3333333333333333,
           "#9c179e"
          ],
          [
           0.4444444444444444,
           "#bd3786"
          ],
          [
           0.5555555555555556,
           "#d8576b"
          ],
          [
           0.6666666666666666,
           "#ed7953"
          ],
          [
           0.7777777777777778,
           "#fb9f3a"
          ],
          [
           0.8888888888888888,
           "#fdca26"
          ],
          [
           1,
           "#f0f921"
          ]
         ]
        },
        "geo": {
         "center": {},
         "domain": {
          "x": [
           0,
           1
          ],
          "y": [
           0,
           1
          ]
         }
        },
        "legend": {
         "tracegroupgap": 0
        },
        "template": {
         "data": {
          "bar": [
           {
            "error_x": {
             "color": "#2a3f5f"
            },
            "error_y": {
             "color": "#2a3f5f"
            },
            "marker": {
             "line": {
              "color": "#E5ECF6",
              "width": 0.5
             },
             "pattern": {
              "fillmode": "overlay",
              "size": 10,
              "solidity": 0.2
             }
            },
            "type": "bar"
           }
          ],
          "barpolar": [
           {
            "marker": {
             "line": {
              "color": "#E5ECF6",
              "width": 0.5
             },
             "pattern": {
              "fillmode": "overlay",
              "size": 10,
              "solidity": 0.2
             }
            },
            "type": "barpolar"
           }
          ],
          "carpet": [
           {
            "aaxis": {
             "endlinecolor": "#2a3f5f",
             "gridcolor": "white",
             "linecolor": "white",
             "minorgridcolor": "white",
             "startlinecolor": "#2a3f5f"
            },
            "baxis": {
             "endlinecolor": "#2a3f5f",
             "gridcolor": "white",
             "linecolor": "white",
             "minorgridcolor": "white",
             "startlinecolor": "#2a3f5f"
            },
            "type": "carpet"
           }
          ],
          "choropleth": [
           {
            "colorbar": {
             "outlinewidth": 0,
             "ticks": ""
            },
            "type": "choropleth"
           }
          ],
          "contour": [
           {
            "colorbar": {
             "outlinewidth": 0,
             "ticks": ""
            },
            "colorscale": [
             [
              0,
              "#0d0887"
             ],
             [
              0.1111111111111111,
              "#46039f"
             ],
             [
              0.2222222222222222,
              "#7201a8"
             ],
             [
              0.3333333333333333,
              "#9c179e"
             ],
             [
              0.4444444444444444,
              "#bd3786"
             ],
             [
              0.5555555555555556,
              "#d8576b"
             ],
             [
              0.6666666666666666,
              "#ed7953"
             ],
             [
              0.7777777777777778,
              "#fb9f3a"
             ],
             [
              0.8888888888888888,
              "#fdca26"
             ],
             [
              1,
              "#f0f921"
             ]
            ],
            "type": "contour"
           }
          ],
          "contourcarpet": [
           {
            "colorbar": {
             "outlinewidth": 0,
             "ticks": ""
            },
            "type": "contourcarpet"
           }
          ],
          "heatmap": [
           {
            "colorbar": {
             "outlinewidth": 0,
             "ticks": ""
            },
            "colorscale": [
             [
              0,
              "#0d0887"
             ],
             [
              0.1111111111111111,
              "#46039f"
             ],
             [
              0.2222222222222222,
              "#7201a8"
             ],
             [
              0.3333333333333333,
              "#9c179e"
             ],
             [
              0.4444444444444444,
              "#bd3786"
             ],
             [
              0.5555555555555556,
              "#d8576b"
             ],
             [
              0.6666666666666666,
              "#ed7953"
             ],
             [
              0.7777777777777778,
              "#fb9f3a"
             ],
             [
              0.8888888888888888,
              "#fdca26"
             ],
             [
              1,
              "#f0f921"
             ]
            ],
            "type": "heatmap"
           }
          ],
          "histogram": [
           {
            "marker": {
             "pattern": {
              "fillmode": "overlay",
              "size": 10,
              "solidity": 0.2
             }
            },
            "type": "histogram"
           }
          ],
          "histogram2d": [
           {
            "colorbar": {
             "outlinewidth": 0,
             "ticks": ""
            },
            "colorscale": [
             [
              0,
              "#0d0887"
             ],
             [
              0.1111111111111111,
              "#46039f"
             ],
             [
              0.2222222222222222,
              "#7201a8"
             ],
             [
              0.3333333333333333,
              "#9c179e"
             ],
             [
              0.4444444444444444,
              "#bd3786"
             ],
             [
              0.5555555555555556,
              "#d8576b"
             ],
             [
              0.6666666666666666,
              "#ed7953"
             ],
             [
              0.7777777777777778,
              "#fb9f3a"
             ],
             [
              0.8888888888888888,
              "#fdca26"
             ],
             [
              1,
              "#f0f921"
             ]
            ],
            "type": "histogram2d"
           }
          ],
          "histogram2dcontour": [
           {
            "colorbar": {
             "outlinewidth": 0,
             "ticks": ""
            },
            "colorscale": [
             [
              0,
              "#0d0887"
             ],
             [
              0.1111111111111111,
              "#46039f"
             ],
             [
              0.2222222222222222,
              "#7201a8"
             ],
             [
              0.3333333333333333,
              "#9c179e"
             ],
             [
              0.4444444444444444,
              "#bd3786"
             ],
             [
              0.5555555555555556,
              "#d8576b"
             ],
             [
              0.6666666666666666,
              "#ed7953"
             ],
             [
              0.7777777777777778,
              "#fb9f3a"
             ],
             [
              0.8888888888888888,
              "#fdca26"
             ],
             [
              1,
              "#f0f921"
             ]
            ],
            "type": "histogram2dcontour"
           }
          ],
          "mesh3d": [
           {
            "colorbar": {
             "outlinewidth": 0,
             "ticks": ""
            },
            "type": "mesh3d"
           }
          ],
          "parcoords": [
           {
            "line": {
             "colorbar": {
              "outlinewidth": 0,
              "ticks": ""
             }
            },
            "type": "parcoords"
           }
          ],
          "pie": [
           {
            "automargin": true,
            "type": "pie"
           }
          ],
          "scatter": [
           {
            "fillpattern": {
             "fillmode": "overlay",
             "size": 10,
             "solidity": 0.2
            },
            "type": "scatter"
           }
          ],
          "scatter3d": [
           {
            "line": {
             "colorbar": {
              "outlinewidth": 0,
              "ticks": ""
             }
            },
            "marker": {
             "colorbar": {
              "outlinewidth": 0,
              "ticks": ""
             }
            },
            "type": "scatter3d"
           }
          ],
          "scattercarpet": [
           {
            "marker": {
             "colorbar": {
              "outlinewidth": 0,
              "ticks": ""
             }
            },
            "type": "scattercarpet"
           }
          ],
          "scattergeo": [
           {
            "marker": {
             "colorbar": {
              "outlinewidth": 0,
              "ticks": ""
             }
            },
            "type": "scattergeo"
           }
          ],
          "scattergl": [
           {
            "marker": {
             "colorbar": {
              "outlinewidth": 0,
              "ticks": ""
             }
            },
            "type": "scattergl"
           }
          ],
          "scattermap": [
           {
            "marker": {
             "colorbar": {
              "outlinewidth": 0,
              "ticks": ""
             }
            },
            "type": "scattermap"
           }
          ],
          "scattermapbox": [
           {
            "marker": {
             "colorbar": {
              "outlinewidth": 0,
              "ticks": ""
             }
            },
            "type": "scattermapbox"
           }
          ],
          "scatterpolar": [
           {
            "marker": {
             "colorbar": {
              "outlinewidth": 0,
              "ticks": ""
             }
            },
            "type": "scatterpolar"
           }
          ],
          "scatterpolargl": [
           {
            "marker": {
             "colorbar": {
              "outlinewidth": 0,
              "ticks": ""
             }
            },
            "type": "scatterpolargl"
           }
          ],
          "scatterternary": [
           {
            "marker": {
             "colorbar": {
              "outlinewidth": 0,
              "ticks": ""
             }
            },
            "type": "scatterternary"
           }
          ],
          "surface": [
           {
            "colorbar": {
             "outlinewidth": 0,
             "ticks": ""
            },
            "colorscale": [
             [
              0,
              "#0d0887"
             ],
             [
              0.1111111111111111,
              "#46039f"
             ],
             [
              0.2222222222222222,
              "#7201a8"
             ],
             [
              0.3333333333333333,
              "#9c179e"
             ],
             [
              0.4444444444444444,
              "#bd3786"
             ],
             [
              0.5555555555555556,
              "#d8576b"
             ],
             [
              0.6666666666666666,
              "#ed7953"
             ],
             [
              0.7777777777777778,
              "#fb9f3a"
             ],
             [
              0.8888888888888888,
              "#fdca26"
             ],
             [
              1,
              "#f0f921"
             ]
            ],
            "type": "surface"
           }
          ],
          "table": [
           {
            "cells": {
             "fill": {
              "color": "#EBF0F8"
             },
             "line": {
              "color": "white"
             }
            },
            "header": {
             "fill": {
              "color": "#C8D4E3"
             },
             "line": {
              "color": "white"
             }
            },
            "type": "table"
           }
          ]
         },
         "layout": {
          "annotationdefaults": {
           "arrowcolor": "#2a3f5f",
           "arrowhead": 0,
           "arrowwidth": 1
          },
          "autotypenumbers": "strict",
          "coloraxis": {
           "colorbar": {
            "outlinewidth": 0,
            "ticks": ""
           }
          },
          "colorscale": {
           "diverging": [
            [
             0,
             "#8e0152"
            ],
            [
             0.1,
             "#c51b7d"
            ],
            [
             0.2,
             "#de77ae"
            ],
            [
             0.3,
             "#f1b6da"
            ],
            [
             0.4,
             "#fde0ef"
            ],
            [
             0.5,
             "#f7f7f7"
            ],
            [
             0.6,
             "#e6f5d0"
            ],
            [
             0.7,
             "#b8e186"
            ],
            [
             0.8,
             "#7fbc41"
            ],
            [
             0.9,
             "#4d9221"
            ],
            [
             1,
             "#276419"
            ]
           ],
           "sequential": [
            [
             0,
             "#0d0887"
            ],
            [
             0.1111111111111111,
             "#46039f"
            ],
            [
             0.2222222222222222,
             "#7201a8"
            ],
            [
             0.3333333333333333,
             "#9c179e"
            ],
            [
             0.4444444444444444,
             "#bd3786"
            ],
            [
             0.5555555555555556,
             "#d8576b"
            ],
            [
             0.6666666666666666,
             "#ed7953"
            ],
            [
             0.7777777777777778,
             "#fb9f3a"
            ],
            [
             0.8888888888888888,
             "#fdca26"
            ],
            [
             1,
             "#f0f921"
            ]
           ],
           "sequentialminus": [
            [
             0,
             "#0d0887"
            ],
            [
             0.1111111111111111,
             "#46039f"
            ],
            [
             0.2222222222222222,
             "#7201a8"
            ],
            [
             0.3333333333333333,
             "#9c179e"
            ],
            [
             0.4444444444444444,
             "#bd3786"
            ],
            [
             0.5555555555555556,
             "#d8576b"
            ],
            [
             0.6666666666666666,
             "#ed7953"
            ],
            [
             0.7777777777777778,
             "#fb9f3a"
            ],
            [
             0.8888888888888888,
             "#fdca26"
            ],
            [
             1,
             "#f0f921"
            ]
           ]
          },
          "colorway": [
           "#636efa",
           "#EF553B",
           "#00cc96",
           "#ab63fa",
           "#FFA15A",
           "#19d3f3",
           "#FF6692",
           "#B6E880",
           "#FF97FF",
           "#FECB52"
          ],
          "font": {
           "color": "#2a3f5f"
          },
          "geo": {
           "bgcolor": "white",
           "lakecolor": "white",
           "landcolor": "#E5ECF6",
           "showlakes": true,
           "showland": true,
           "subunitcolor": "white"
          },
          "hoverlabel": {
           "align": "left"
          },
          "hovermode": "closest",
          "mapbox": {
           "style": "light"
          },
          "paper_bgcolor": "white",
          "plot_bgcolor": "#E5ECF6",
          "polar": {
           "angularaxis": {
            "gridcolor": "white",
            "linecolor": "white",
            "ticks": ""
           },
           "bgcolor": "#E5ECF6",
           "radialaxis": {
            "gridcolor": "white",
            "linecolor": "white",
            "ticks": ""
           }
          },
          "scene": {
           "xaxis": {
            "backgroundcolor": "#E5ECF6",
            "gridcolor": "white",
            "gridwidth": 2,
            "linecolor": "white",
            "showbackground": true,
            "ticks": "",
            "zerolinecolor": "white"
           },
           "yaxis": {
            "backgroundcolor": "#E5ECF6",
            "gridcolor": "white",
            "gridwidth": 2,
            "linecolor": "white",
            "showbackground": true,
            "ticks": "",
            "zerolinecolor": "white"
           },
           "zaxis": {
            "backgroundcolor": "#E5ECF6",
            "gridcolor": "white",
            "gridwidth": 2,
            "linecolor": "white",
            "showbackground": true,
            "ticks": "",
            "zerolinecolor": "white"
           }
          },
          "shapedefaults": {
           "line": {
            "color": "#2a3f5f"
           }
          },
          "ternary": {
           "aaxis": {
            "gridcolor": "white",
            "linecolor": "white",
            "ticks": ""
           },
           "baxis": {
            "gridcolor": "white",
            "linecolor": "white",
            "ticks": ""
           },
           "bgcolor": "#E5ECF6",
           "caxis": {
            "gridcolor": "white",
            "linecolor": "white",
            "ticks": ""
           }
          },
          "title": {
           "x": 0.05
          },
          "xaxis": {
           "automargin": true,
           "gridcolor": "white",
           "linecolor": "white",
           "ticks": "",
           "title": {
            "standoff": 15
           },
           "zerolinecolor": "white",
           "zerolinewidth": 2
          },
          "yaxis": {
           "automargin": true,
           "gridcolor": "white",
           "linecolor": "white",
           "ticks": "",
           "title": {
            "standoff": 15
           },
           "zerolinecolor": "white",
           "zerolinewidth": 2
          }
         }
        },
        "title": {
         "text": "Total CO₂ Emissions from Beef Consumption (kg CO₂ per person per year)"
        }
       }
      }
     },
     "metadata": {},
     "output_type": "display_data"
    }
   ],
   "source": [
    "import plotly.express as px\n",
    "\n",
    "# Filter the dataset for the food category = Beef\n",
    "beef_data_global = carbon_data[carbon_data['food_category'] == 'Beef']\n",
    "\n",
    "# Group by country and calculate total CO₂ emissions from beef\n",
    "beef_emissions_per_country = beef_data_global.groupby('country')['co2_emmission'].sum().reset_index()\n",
    "\n",
    "# Create a Choropleth map to show the distribution\n",
    "fig = px.choropleth(beef_emissions_per_country, \n",
    "                    locations=\"country\", \n",
    "                    locationmode='country names', \n",
    "                    color=\"co2_emmission\",\n",
    "                    hover_name=\"country\", \n",
    "                    color_continuous_scale=px.colors.sequential.Plasma,\n",
    "                    title=\"Total CO₂ Emissions from Beef Consumption (kg CO₂ per person per year)\")\n",
    "\n",
    "fig.show()"
   ]
  },
  {
   "cell_type": "code",
   "execution_count": 34,
   "metadata": {
    "vscode": {
     "languageId": "ruby"
    }
   },
   "outputs": [
    {
     "name": "stdout",
     "output_type": "stream",
     "text": [
      "The country with the highest emissions from beef is Argentina with 1712.0 kg CO2 per person per year.\n",
      "East African countries' beef emissions compared to global average:\n",
      "      country  co2_emmission\n",
      "36   Ethiopia         111.40\n",
      "63      Kenya         294.38\n",
      "99     Rwanda          78.07\n",
      "114  Tanzania         187.92\n",
      "121    Uganda         158.92\n",
      "Global average CO2 emissions from beef: 374.10 kg CO2 per person per year\n"
     ]
    }
   ],
   "source": [
    "# Find the country with the highest emissions from beef\n",
    "highest_beef_emissions_country = beef_emissions_per_country.loc[beef_emissions_per_country['co2_emmission'].idxmax()]\n",
    "highest_beef_emissions_country_name = highest_beef_emissions_country['country']\n",
    "highest_beef_emissions_value = highest_beef_emissions_country['co2_emmission']\n",
    "\n",
    "print(f\"The country with the highest emissions from beef is {highest_beef_emissions_country_name} with {highest_beef_emissions_value} kg CO2 per person per year.\")\n",
    "\n",
    "# Compare East African countries to global trends\n",
    "east_african_beef_emissions = beef_emissions_per_country[beef_emissions_per_country['country'].isin(east_african_countries)]\n",
    "global_avg_beef_emissions = beef_emissions_per_country['co2_emmission'].mean()\n",
    "\n",
    "print(\"East African countries' beef emissions compared to global average:\")\n",
    "print(east_african_beef_emissions)\n",
    "print(f\"Global average CO2 emissions from beef: {global_avg_beef_emissions:.2f} kg CO2 per person per year\")"
   ]
  },
  {
   "cell_type": "markdown",
   "metadata": {},
   "source": [
    "Box Plot for CO₂ Emissions Across Food Categories\n",
    "\n",
    "Goal: Show the spread and distribution of CO₂ emissions across different food categories.\n",
    "\n",
    "Approach:\n",
    "\n",
    "Group data by food_category and analyze CO₂ emissions.\n",
    "\n",
    "Create a box plot where:\n",
    "\n",
    "The x-axis represents different food categories.\n",
    "\n",
    "The y-axis represents CO₂ emissions.\n",
    "\n",
    "Interpret insights:\n",
    "\n",
    "Which food category has the highest variation in CO₂ emissions?\n",
    "\n",
    "Are there any outliers?\n",
    "\n",
    "Which food types consistently produce high emissions?"
   ]
  },
  {
   "cell_type": "code",
   "execution_count": 35,
   "metadata": {},
   "outputs": [
    {
     "name": "stderr",
     "output_type": "stream",
     "text": [
      "C:\\Users\\Admin\\AppData\\Local\\Temp\\ipykernel_9884\\428374755.py:3: FutureWarning:\n",
      "\n",
      "\n",
      "\n",
      "Passing `palette` without assigning `hue` is deprecated and will be removed in v0.14.0. Assign the `x` variable to `hue` and set `legend=False` for the same effect.\n",
      "\n",
      "\n"
     ]
    },
    {
     "data": {
      "image/png": "[encoded data removed]",
      "text/plain": [
       "<Figure size 1400x800 with 1 Axes>"
      ]
     },
     "metadata": {},
     "output_type": "display_data"
    }
   ],
   "source": [
    "# Create a box plot to show the spread and distribution of CO₂ emissions across different food categories\n",
    "plt.figure(figsize=(14, 8))\n",
    "sns.boxplot(x='food_category', y='co2_emmission', data=east_africa_data, palette='viridis')\n",
    "plt.xlabel('Food Category')\n",
    "plt.ylabel('CO2 Emissions (kg CO2 per person per year)')\n",
    "plt.title('CO2 Emissions Across Food Categories in East Africa')\n",
    "plt.xticks(rotation=45)\n",
    "plt.show()"
   ]
  },
  {
   "cell_type": "code",
   "execution_count": 36,
   "metadata": {},
   "outputs": [
    {
     "name": "stdout",
     "output_type": "stream",
     "text": [
      "The food category with the highest variation in CO₂ emissions is Beef with a standard deviation of 83.25 kg CO₂ per person per year.\n"
     ]
    }
   ],
   "source": [
    "# Calculate the variation in CO₂ emissions for each food category\n",
    "variation = east_africa_data.groupby('food_category')['co2_emmission'].std().sort_values(ascending=False)\n",
    "highest_variation_food = variation.idxmax()\n",
    "highest_variation_value = variation.max()\n",
    "\n",
    "print(f\"The food category with the highest variation in CO₂ emissions is {highest_variation_food} with a standard deviation of {highest_variation_value:.2f} kg CO₂ per person per year.\")\n",
    "\n"
   ]
  },
  {
   "cell_type": "code",
   "execution_count": 37,
   "metadata": {},
   "outputs": [
    {
     "name": "stdout",
     "output_type": "stream",
     "text": [
      "Outliers in CO₂ emissions data:\n"
     ]
    },
    {
     "data": {
      "text/plain": [
       "food_category                \n",
       "Beef                     904     294.38\n",
       "Eggs                     907       1.69\n",
       "Fish                     1093     19.96\n",
       "Milk - inc. cheese       908     135.12\n",
       "Nuts inc. Peanut Butter  1132     10.51\n",
       "Pork                     1089     11.93\n",
       "Soybeans                 1285      0.87\n",
       "Name: co2_emmission, dtype: float64"
      ]
     },
     "execution_count": 37,
     "metadata": {},
     "output_type": "execute_result"
    }
   ],
   "source": [
    "# Identify outliers in the CO₂ emissions data\n",
    "outliers = east_africa_data.groupby('food_category')['co2_emmission'].apply(lambda x: x[(x - x.mean()).abs() > 1.5 * x.std()])\n",
    "outliers = outliers.dropna()\n",
    "\n",
    "print(\"Outliers in CO₂ emissions data:\")\n",
    "outliers"
   ]
  },
  {
   "cell_type": "code",
   "execution_count": 38,
   "metadata": {},
   "outputs": [
    {
     "name": "stdout",
     "output_type": "stream",
     "text": [
      "Food types that consistently produce high emissions:\n"
     ]
    },
    {
     "data": {
      "text/plain": [
       "array(['Beef', 'Milk - inc. cheese'], dtype=object)"
      ]
     },
     "execution_count": 38,
     "metadata": {},
     "output_type": "execute_result"
    }
   ],
   "source": [
    "# Identify food types that consistently produce high emissions\n",
    "high_emission_threshold = east_africa_data['co2_emmission'].mean() + east_africa_data['co2_emmission'].std()\n",
    "high_emission_foods = east_africa_data[east_africa_data['co2_emmission'] > high_emission_threshold]['food_category'].unique()\n",
    "\n",
    "print(\"Food types that consistently produce high emissions:\")\n",
    "high_emission_foods"
   ]
  },
  {
   "cell_type": "markdown",
   "metadata": {},
   "source": [
    "Identifying and Visualizing the Top 10 Countries\n",
    "\n",
    "Goal: Highlight the top 10 countries contributing the most to food-related CO₂ emissions.\n",
    "\n",
    "Approach:\n",
    "\n",
    "Group data by country and sum the total co2_emmission.\n",
    "\n",
    "Sort the countries in descending order and select the top 10.\n",
    "\n",
    "Choose the best visualization (Bar chart or horizontal bar chart recommended for clarity).\n",
    "\n",
    "Interpret insights:\n",
    "\n",
    "Which country has the highest food-related CO₂ emissions?\n",
    "\n",
    "Any surprising trends?\n",
    "\n",
    "What could be the contributing factors (diet, population, agriculture practices)?\n"
   ]
  },
  {
   "cell_type": "code",
   "execution_count": null,
   "metadata": {
    "vscode": {
     "languageId": "r"
    }
   },
   "outputs": [],
   "source": [
    "# Group data by country and sum the total CO2 emissions\n",
    "total_co2_emissions_per_country = carbon_data.groupby('country')['co2_emmission'].sum().sort_values(ascending=False)\n",
    "\n",
    "# Select the top 10 countries\n",
    "top_10_countries = total_co2_emissions_per_country.head(10)\n",
    "\n",
    "# Create a bar chart to visualize the top 10 countries\n",
    "plt.figure(figsize=(12, 8))\n",
    "sns.barplot(x=top_10_countries.values, y=top_10_countries.index, palette='viridis')\n",
    "plt.xlabel('Total CO2 Emissions (kg CO2 per person per year)')\n",
    "plt.ylabel('Country')\n",
    "plt.title('Top 10 Countries Contributing the Most to Food-Related CO2 Emissions')\n",
    "plt.show()\n",
    "\n"
   ]
  },
  {
   "cell_type": "code",
   "execution_count": null,
   "metadata": {},
   "outputs": [],
   "source": [
    "\n",
    "# Interpret insights\n",
    "highest_emission_country = top_10_countries.idxmax()\n",
    "highest_emission_value = top_10_countries.max()\n",
    "\n",
    "print(f\"The country with the highest food-related CO2 emissions is {highest_emission_country} with {highest_emission_value:.2f} kg CO2 per person per year.\")"
   ]
  }
 ],
 "metadata": {
  "kernelspec": {
   "display_name": ".venv",
   "language": "python",
   "name": "python3"
  },
  "language_info": {
   "codemirror_mode": {
    "name": "ipython",
    "version": 3
   },
   "file_extension": ".py",
   "mimetype": "text/x-python",
   "name": "python",
   "nbconvert_exporter": "python",
   "pygments_lexer": "ipython3",
   "version": "3.13.2"
  }
 },
 "nbformat": 4,
 "nbformat_minor": 2
}
