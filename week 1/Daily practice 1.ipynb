{
 "cells": [
  {
   "cell_type": "code",
   "execution_count": 1,
   "metadata": {},
   "outputs": [],
   "source": [
    "# Numpy Exercise 1\n",
    "# 1. Import the numpy package under the name `np`\n",
    "\n",
    "import numpy as np"
   ]
  },
  {
   "cell_type": "code",
   "execution_count": 3,
   "metadata": {},
   "outputs": [
    {
     "name": "stdout",
     "output_type": "stream",
     "text": [
      "2.2.2\n",
      "Build Dependencies:\n",
      "  blas:\n",
      "    detection method: pkgconfig\n",
      "    found: true\n",
      "    include directory: C:/Users/runneradmin/AppData/Local/Temp/cibw-run-fwtr2gmz/cp313-win_amd64/build/venv/Lib/site-packages/scipy_openblas64/include\n",
      "    lib directory: C:/Users/runneradmin/AppData/Local/Temp/cibw-run-fwtr2gmz/cp313-win_amd64/build/venv/Lib/site-packages/scipy_openblas64/lib\n",
      "    name: scipy-openblas\n",
      "    openblas configuration: OpenBLAS 0.3.28  USE64BITINT DYNAMIC_ARCH NO_AFFINITY\n",
      "      Haswell MAX_THREADS=24\n",
      "    pc file directory: D:/a/numpy/numpy/.openblas\n",
      "    version: 0.3.28\n",
      "  lapack:\n",
      "    detection method: pkgconfig\n",
      "    found: true\n",
      "    include directory: C:/Users/runneradmin/AppData/Local/Temp/cibw-run-fwtr2gmz/cp313-win_amd64/build/venv/Lib/site-packages/scipy_openblas64/include\n",
      "    lib directory: C:/Users/runneradmin/AppData/Local/Temp/cibw-run-fwtr2gmz/cp313-win_amd64/build/venv/Lib/site-packages/scipy_openblas64/lib\n",
      "    name: scipy-openblas\n",
      "    openblas configuration: OpenBLAS 0.3.28  USE64BITINT DYNAMIC_ARCH NO_AFFINITY\n",
      "      Haswell MAX_THREADS=24\n",
      "    pc file directory: D:/a/numpy/numpy/.openblas\n",
      "    version: 0.3.28\n",
      "Compilers:\n",
      "  c:\n",
      "    commands: cl\n",
      "    linker: link\n",
      "    name: msvc\n",
      "    version: 19.29.30157\n",
      "  c++:\n",
      "    commands: cl\n",
      "    linker: link\n",
      "    name: msvc\n",
      "    version: 19.29.30157\n",
      "  cython:\n",
      "    commands: cython\n",
      "    linker: cython\n",
      "    name: cython\n",
      "    version: 3.0.11\n",
      "Machine Information:\n",
      "  build:\n",
      "    cpu: x86_64\n",
      "    endian: little\n",
      "    family: x86_64\n",
      "    system: windows\n",
      "  host:\n",
      "    cpu: x86_64\n",
      "    endian: little\n",
      "    family: x86_64\n",
      "    system: windows\n",
      "Python Information:\n",
      "  path: C:\\Users\\runneradmin\\AppData\\Local\\Temp\\build-env-g8v9pjpn\\Scripts\\python.exe\n",
      "  version: '3.13'\n",
      "SIMD Extensions:\n",
      "  baseline:\n",
      "  - SSE\n",
      "  - SSE2\n",
      "  - SSE3\n",
      "  found:\n",
      "  - SSSE3\n",
      "  - SSE41\n",
      "  - POPCNT\n",
      "  - SSE42\n",
      "  - AVX\n",
      "  - F16C\n",
      "  - FMA3\n",
      "  - AVX2\n",
      "  not found:\n",
      "  - AVX512F\n",
      "  - AVX512CD\n",
      "  - AVX512_SKX\n",
      "  - AVX512_CLX\n",
      "  - AVX512_CNL\n",
      "  - AVX512_ICL\n",
      "\n",
      "None\n"
     ]
    }
   ],
   "source": [
    "# 2. Print the numpy version and the configuration \n",
    "print(np.__version__)\n",
    "print(np.show_config())"
   ]
  },
  {
   "cell_type": "code",
   "execution_count": 6,
   "metadata": {},
   "outputs": [
    {
     "name": "stdout",
     "output_type": "stream",
     "text": [
      "[0. 0. 0. 0. 0. 0. 0. 0. 0. 0.]\n"
     ]
    }
   ],
   "source": [
    "# 3. Create a null vector of size 10 \n",
    "arr = np.zeros(10)\n",
    "print(arr)"
   ]
  },
  {
   "cell_type": "code",
   "execution_count": 7,
   "metadata": {},
   "outputs": [
    {
     "name": "stdout",
     "output_type": "stream",
     "text": [
      "Memory size: 80 bytes\n"
     ]
    }
   ],
   "source": [
    "\n",
    "# 4. How to find the memory size of any array \n",
    "print(f\"Memory size: {arr.size * arr.itemsize} bytes\")"
   ]
  },
  {
   "cell_type": "code",
   "execution_count": 8,
   "metadata": {},
   "outputs": [
    {
     "name": "stdout",
     "output_type": "stream",
     "text": [
      "add(x1, x2, /, out=None, *, where=True, casting='same_kind', order='K', dtype=None, subok=True[, signature])\n",
      "\n",
      "Add arguments element-wise.\n",
      "\n",
      "Parameters\n",
      "----------\n",
      "x1, x2 : array_like\n",
      "    The arrays to be added.\n",
      "    If ``x1.shape != x2.shape``, they must be broadcastable to a common\n",
      "    shape (which becomes the shape of the output).\n",
      "out : ndarray, None, or tuple of ndarray and None, optional\n",
      "    A location into which the result is stored. If provided, it must have\n",
      "    a shape that the inputs broadcast to. If not provided or None,\n",
      "    a freshly-allocated array is returned. A tuple (possible only as a\n",
      "    keyword argument) must have length equal to the number of outputs.\n",
      "where : array_like, optional\n",
      "    This condition is broadcast over the input. At locations where the\n",
      "    condition is True, the `out` array will be set to the ufunc result.\n",
      "    Elsewhere, the `out` array will retain its original value.\n",
      "    Note that if an uninitialized `out` array is created via the default\n",
      "    ``out=None``, locations within it where the condition is False will\n",
      "    remain uninitialized.\n",
      "**kwargs\n",
      "    For other keyword-only arguments, see the\n",
      "    :ref:`ufunc docs <ufuncs.kwargs>`.\n",
      "\n",
      "Returns\n",
      "-------\n",
      "add : ndarray or scalar\n",
      "    The sum of `x1` and `x2`, element-wise.\n",
      "    This is a scalar if both `x1` and `x2` are scalars.\n",
      "\n",
      "Notes\n",
      "-----\n",
      "Equivalent to `x1` + `x2` in terms of array broadcasting.\n",
      "\n",
      "Examples\n",
      "--------\n",
      ">>> import numpy as np\n",
      ">>> np.add(1.0, 4.0)\n",
      "5.0\n",
      ">>> x1 = np.arange(9.0).reshape((3, 3))\n",
      ">>> x2 = np.arange(3.0)\n",
      ">>> np.add(x1, x2)\n",
      "array([[  0.,   2.,   4.],\n",
      "       [  3.,   5.,   7.],\n",
      "       [  6.,   8.,  10.]])\n",
      "\n",
      "The ``+`` operator can be used as a shorthand for ``np.add`` on ndarrays.\n",
      "\n",
      ">>> x1 = np.arange(9.0).reshape((3, 3))\n",
      ">>> x2 = np.arange(3.0)\n",
      ">>> x1 + x2\n",
      "array([[ 0.,  2.,  4.],\n",
      "       [ 3.,  5.,  7.],\n",
      "       [ 6.,  8., 10.]])\n"
     ]
    }
   ],
   "source": [
    "# 5. How to get the documentation of the numpy add function from the command line? \n",
    "\n",
    "np.info(np.add)"
   ]
  },
  {
   "cell_type": "code",
   "execution_count": 9,
   "metadata": {},
   "outputs": [
    {
     "name": "stdout",
     "output_type": "stream",
     "text": [
      "[0. 0. 0. 0. 1. 0. 0. 0. 0. 0.]\n"
     ]
    }
   ],
   "source": [
    "# 6. Create a null vector of size 10 but the fifth value is 1 \n",
    "arr[4] = 1\n",
    "print(arr)"
   ]
  },
  {
   "cell_type": "code",
   "execution_count": 10,
   "metadata": {},
   "outputs": [
    {
     "name": "stdout",
     "output_type": "stream",
     "text": [
      "[10 11 12 13 14 15 16 17 18 19 20 21 22 23 24 25 26 27 28 29 30 31 32 33\n",
      " 34 35 36 37 38 39 40 41 42 43 44 45 46 47 48 49]\n"
     ]
    }
   ],
   "source": [
    "# 7. Create a vector with values ranging from 10 to 49 \n",
    "vec = np.arange(10, 50)\n",
    "print(vec)\n"
   ]
  },
  {
   "cell_type": "code",
   "execution_count": 11,
   "metadata": {},
   "outputs": [
    {
     "name": "stdout",
     "output_type": "stream",
     "text": [
      "[49 48 47 46 45 44 43 42 41 40 39 38 37 36 35 34 33 32 31 30 29 28 27 26\n",
      " 25 24 23 22 21 20 19 18 17 16 15 14 13 12 11 10]\n"
     ]
    }
   ],
   "source": [
    "# 8. Reverse a vector (first element becomes last) \n",
    "vec_reversed = vec[::-1]\n",
    "print(vec_reversed)\n"
   ]
  },
  {
   "cell_type": "code",
   "execution_count": 12,
   "metadata": {},
   "outputs": [
    {
     "name": "stdout",
     "output_type": "stream",
     "text": [
      "[[0 1 2]\n",
      " [3 4 5]\n",
      " [6 7 8]]\n"
     ]
    }
   ],
   "source": [
    "# 9. Create a 3x3 matrix with values ranging from 0 to 8 \n",
    "mat = np.arange(9).reshape(3, 3)\n",
    "print(mat)"
   ]
  },
  {
   "cell_type": "code",
   "execution_count": 13,
   "metadata": {},
   "outputs": [
    {
     "name": "stdout",
     "output_type": "stream",
     "text": [
      "(array([0, 1, 4]),)\n"
     ]
    }
   ],
   "source": [
    "# 10. Find indices of non-zero elements from [1,2,0,0,4,0] \n",
    "arr = np.array([1, 2, 0, 0, 4, 0])\n",
    "nz_indices = np.nonzero(arr)\n",
    "print(nz_indices)\n"
   ]
  },
  {
   "cell_type": "code",
   "execution_count": 14,
   "metadata": {},
   "outputs": [
    {
     "name": "stdout",
     "output_type": "stream",
     "text": [
      "[[1. 0. 0.]\n",
      " [0. 1. 0.]\n",
      " [0. 0. 1.]]\n"
     ]
    }
   ],
   "source": [
    "# 11. Create a 3x3 identity matrix \n",
    "identity_matrix = np.eye(3)\n",
    "print(identity_matrix)"
   ]
  },
  {
   "cell_type": "code",
   "execution_count": 23,
   "metadata": {},
   "outputs": [
    {
     "name": "stdout",
     "output_type": "stream",
     "text": [
      "[[[67 99 84]\n",
      "  [44  5 39]\n",
      "  [18 80 74]]\n",
      "\n",
      " [[57  0 62]\n",
      "  [56 21 55]\n",
      "  [38 25 90]]\n",
      "\n",
      " [[50 64 56]\n",
      "  [74  2 83]\n",
      "  [86 10 98]]]\n"
     ]
    }
   ],
   "source": [
    "# 12. Create a 3x3x3 array with random values \n",
    "random_array = np.random.randint(0,101,size=(3, 3, 3))\n",
    "print(random_array)"
   ]
  },
  {
   "cell_type": "code",
   "execution_count": 28,
   "metadata": {},
   "outputs": [
    {
     "name": "stdout",
     "output_type": "stream",
     "text": [
      "[[29 24 15 40 14 46 46 33 50 25]\n",
      " [14 35 21 28 42 25 14 45 13 18]\n",
      " [29 43 45 41 45 37 47 30 13 48]\n",
      " [36 39 19 22 24 47 48 45 12 23]\n",
      " [16 31 45 22 17 41 48 43 37 42]\n",
      " [47 10 39 10 10 17 15 12 10 40]\n",
      " [48 29 39 24 12 46 37 25 24 45]\n",
      " [32 36 46 42 16 20 50 38 15 36]\n",
      " [41 47 48 12 50 17 46 17 15 20]\n",
      " [47 50 40 19 12 40 49 18 36 24]]\n",
      "Min is: 10, Max is: 50\n"
     ]
    }
   ],
   "source": [
    "# 13. Create a 10x10 array with random values and find the minimum and maximum values \n",
    "rand_matrix = np.random.randint(10,51,size=(10, 10))\n",
    "min_val = rand_matrix.min()\n",
    "max_val = rand_matrix.max()\n",
    "print(rand_matrix)\n",
    "print(f\"Min is: {min_val}, Max is: {max_val}\")"
   ]
  },
  {
   "cell_type": "code",
   "execution_count": 29,
   "metadata": {},
   "outputs": [
    {
     "name": "stdout",
     "output_type": "stream",
     "text": [
      "[21 20 23  1 37 31 25 18  5  9 28 22 23 10 43 47 34 20 44 41 42 48 16 37\n",
      "  7 35 42 46 27 41]\n",
      "Mean: 28.1\n"
     ]
    }
   ],
   "source": [
    "# 14. Create a random vector of size 30 and find the mean value \n",
    "rand_vec = np.random.randint(0,50,size=30)\n",
    "mean_val = rand_vec.mean()\n",
    "print(rand_vec)\n",
    "print(f\"Mean: {mean_val}\")"
   ]
  },
  {
   "cell_type": "code",
   "execution_count": 30,
   "metadata": {},
   "outputs": [
    {
     "name": "stdout",
     "output_type": "stream",
     "text": [
      "[[1. 1. 1. 1. 1.]\n",
      " [1. 0. 0. 0. 1.]\n",
      " [1. 0. 0. 0. 1.]\n",
      " [1. 0. 0. 0. 1.]\n",
      " [1. 1. 1. 1. 1.]]\n"
     ]
    }
   ],
   "source": [
    "# 15. Create a 2D array with 1 on the border and 0 inside \n",
    "array_2d = np.ones((5, 5))\n",
    "array_2d[1:-1, 1:-1] = 0\n",
    "print(array_2d)"
   ]
  },
  {
   "cell_type": "code",
   "execution_count": null,
   "metadata": {},
   "outputs": [],
   "source": []
  }
 ],
 "metadata": {
  "kernelspec": {
   "display_name": ".venv",
   "language": "python",
   "name": "python3"
  },
  "language_info": {
   "codemirror_mode": {
    "name": "ipython",
    "version": 3
   },
   "file_extension": ".py",
   "mimetype": "text/x-python",
   "name": "python",
   "nbconvert_exporter": "python",
   "pygments_lexer": "ipython3",
   "version": "3.13.1"
  }
 },
 "nbformat": 4,
 "nbformat_minor": 2
}
