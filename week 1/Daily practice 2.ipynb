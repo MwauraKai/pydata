{
 "cells": [
  {
   "cell_type": "code",
   "execution_count": 2,
   "metadata": {},
   "outputs": [
    {
     "name": "stdout",
     "output_type": "stream",
     "text": [
      "[[0. 0. 0. 0. 0.]\n",
      " [0. 1. 1. 1. 0.]\n",
      " [0. 1. 1. 1. 0.]\n",
      " [0. 1. 1. 1. 0.]\n",
      " [0. 0. 0. 0. 0.]]\n"
     ]
    }
   ],
   "source": [
    "#Exercise 16: Add a border (filled with 0's) around an existing array\n",
    "import numpy as np\n",
    "\n",
    "array = np.ones((3, 3))  # Create a 3x3 matrix filled with 1s\n",
    "bordered_array = np.pad(array, pad_width=1, mode='constant', constant_values=0)\n",
    "print(bordered_array)\n"
   ]
  },
  {
   "cell_type": "code",
   "execution_count": null,
   "metadata": {},
   "outputs": [
    {
     "data": {
      "text/plain": [
       "nan"
      ]
     },
     "execution_count": 4,
     "metadata": {},
     "output_type": "execute_result"
    }
   ],
   "source": [
    "# Exercise 17: What is the result of the following expressions?\n",
    "0 * np.nan    \n"
   ]
  },
  {
   "cell_type": "code",
   "execution_count": 12,
   "metadata": {},
   "outputs": [
    {
     "data": {
      "text/plain": [
       "False"
      ]
     },
     "execution_count": 12,
     "metadata": {},
     "output_type": "execute_result"
    }
   ],
   "source": [
    "np.nan == np.nan   \n"
   ]
  },
  {
   "cell_type": "code",
   "execution_count": 7,
   "metadata": {},
   "outputs": [
    {
     "data": {
      "text/plain": [
       "False"
      ]
     },
     "execution_count": 7,
     "metadata": {},
     "output_type": "execute_result"
    }
   ],
   "source": [
    "np.inf > np.nan    \n"
   ]
  },
  {
   "cell_type": "code",
   "execution_count": 8,
   "metadata": {},
   "outputs": [
    {
     "data": {
      "text/plain": [
       "nan"
      ]
     },
     "execution_count": 8,
     "metadata": {},
     "output_type": "execute_result"
    }
   ],
   "source": [
    "np.nan - np.nan    \n"
   ]
  },
  {
   "cell_type": "code",
   "execution_count": 10,
   "metadata": {},
   "outputs": [
    {
     "data": {
      "text/plain": [
       "True"
      ]
     },
     "execution_count": 10,
     "metadata": {},
     "output_type": "execute_result"
    }
   ],
   "source": [
    "np.nan in set([np.nan]) \n"
   ]
  },
  {
   "cell_type": "code",
   "execution_count": 11,
   "metadata": {},
   "outputs": [
    {
     "data": {
      "text/plain": [
       "False"
      ]
     },
     "execution_count": 11,
     "metadata": {},
     "output_type": "execute_result"
    }
   ],
   "source": [
    "0.3 == 3 * 0."
   ]
  },
  {
   "cell_type": "markdown",
   "metadata": {},
   "source": [
    "0 * np.nan results in NaN because any operation with NaN is undefined.\n",
    "np.nan == np.nan is False because NaN is not equal to anything, not even itself.\n",
    "np.inf > np.nan is False since NaN is not comparable.\n",
    "np.nan - np.nan is NaN, again because operations with NaN are undefined.\n",
    "np.nan in set([np.nan]) is True because Python's set can store NaN as a unique element.\n",
    "0.3 == 3 * 0.1 is False due to floating-point precision errors."
   ]
  },
  {
   "cell_type": "code",
   "execution_count": 13,
   "metadata": {},
   "outputs": [
    {
     "name": "stdout",
     "output_type": "stream",
     "text": [
      "[[0 0 0 0 0]\n",
      " [1 0 0 0 0]\n",
      " [0 2 0 0 0]\n",
      " [0 0 3 0 0]\n",
      " [0 0 0 4 0]]\n"
     ]
    }
   ],
   "source": [
    "# Exercise 18: Create a 5x5 matrix with values 1,2,3,4 just below the diagonal\n",
    "matrix = np.diag([1, 2, 3, 4], k=-1)\n",
    "print(matrix)\n"
   ]
  },
  {
   "cell_type": "code",
   "execution_count": 14,
   "metadata": {},
   "outputs": [
    {
     "name": "stdout",
     "output_type": "stream",
     "text": [
      "[[0 1 0 1 0 1 0 1]\n",
      " [1 0 1 0 1 0 1 0]\n",
      " [0 1 0 1 0 1 0 1]\n",
      " [1 0 1 0 1 0 1 0]\n",
      " [0 1 0 1 0 1 0 1]\n",
      " [1 0 1 0 1 0 1 0]\n",
      " [0 1 0 1 0 1 0 1]\n",
      " [1 0 1 0 1 0 1 0]]\n"
     ]
    }
   ],
   "source": [
    "# Exercise 19: Create an 8x8 checkerboard matrix\n",
    "checkerboard = np.zeros((8, 8), dtype=int)\n",
    "checkerboard[1::2, ::2] = 1  # Set 1 in every alternate row\n",
    "checkerboard[::2, 1::2] = 1  # Set 1 in every alternate column\n",
    "print(checkerboard)\n"
   ]
  },
  {
   "cell_type": "code",
   "execution_count": 15,
   "metadata": {},
   "outputs": [
    {
     "name": "stdout",
     "output_type": "stream",
     "text": [
      "(np.int64(1), np.int64(5), np.int64(4))\n"
     ]
    }
   ],
   "source": [
    "# Exercise 20: Index of the 100th element in a (6,7,8) shape array\n",
    "index = np.unravel_index(100, (6, 7, 8))\n",
    "print(index)  \n"
   ]
  },
  {
   "cell_type": "code",
   "execution_count": 16,
   "metadata": {},
   "outputs": [
    {
     "name": "stdout",
     "output_type": "stream",
     "text": [
      "[[0 1 0 1 0 1 0 1]\n",
      " [1 0 1 0 1 0 1 0]\n",
      " [0 1 0 1 0 1 0 1]\n",
      " [1 0 1 0 1 0 1 0]\n",
      " [0 1 0 1 0 1 0 1]\n",
      " [1 0 1 0 1 0 1 0]\n",
      " [0 1 0 1 0 1 0 1]\n",
      " [1 0 1 0 1 0 1 0]]\n"
     ]
    }
   ],
   "source": [
    "# Exercise 21: Create a checkerboard using tile()\n",
    "pattern = np.array([[0, 1], [1, 0]])  # 2x2 checkerboard base pattern\n",
    "checkerboard = np.tile(pattern, (4, 4))  # Repeat 4x4 times\n",
    "print(checkerboard)\n"
   ]
  },
  {
   "cell_type": "code",
   "execution_count": 17,
   "metadata": {},
   "outputs": [
    {
     "name": "stdout",
     "output_type": "stream",
     "text": [
      "[[0.8248751  0.28020234 0.70011201 0.22303142 0.38415957]\n",
      " [0.43757759 0.55830197 0.99076153 0.57061395 1.        ]\n",
      " [0.94688947 0.82273268 0.38377929 0.77230393 0.08255455]\n",
      " [0.5916354  0.39705905 0.8791334  0.51597131 0.60380774]\n",
      " [0.75653662 0.9600448  0.2811441  0.21138605 0.        ]]\n"
     ]
    }
   ],
   "source": [
    "# Exercise 22: Normalize a 5x5 random matrix\n",
    "matrix = np.random.random((5, 5))  # Random 5x5 matrix\n",
    "normalized = (matrix - matrix.min()) / (matrix.max() - matrix.min())\n",
    "print(normalized)\n"
   ]
  },
  {
   "cell_type": "code",
   "execution_count": 18,
   "metadata": {},
   "outputs": [
    {
     "name": "stdout",
     "output_type": "stream",
     "text": [
      "[[39 49]\n",
      " [54 64]\n",
      " [75 53]\n",
      " [81 75]\n",
      " [54 88]]\n"
     ]
    }
   ],
   "source": [
    "# Exercise 24: Multiply a 5x3 matrix by a 3x2 matrix\n",
    "A = np.random.randint(1, 10, (5, 3))  # 5x3 matrix\n",
    "B = np.random.randint(1, 10, (3, 2))  # 3x2 matrix\n",
    "C = np.dot(A, B)  # Matrix multiplication\n",
    "print(C)\n"
   ]
  },
  {
   "cell_type": "code",
   "execution_count": null,
   "metadata": {},
   "outputs": [],
   "source": []
  }
 ],
 "metadata": {
  "kernelspec": {
   "display_name": ".venv",
   "language": "python",
   "name": "python3"
  },
  "language_info": {
   "codemirror_mode": {
    "name": "ipython",
    "version": 3
   },
   "file_extension": ".py",
   "mimetype": "text/x-python",
   "name": "python",
   "nbconvert_exporter": "python",
   "pygments_lexer": "ipython3",
   "version": "3.13.1"
  }
 },
 "nbformat": 4,
 "nbformat_minor": 2
}
