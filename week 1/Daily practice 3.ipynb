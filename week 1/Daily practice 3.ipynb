{
 "cells": [
  {
   "cell_type": "code",
   "execution_count": 1,
   "metadata": {},
   "outputs": [
    {
     "data": {
      "text/plain": [
       "{'divide': 'warn', 'over': 'warn', 'under': 'ignore', 'invalid': 'warn'}"
      ]
     },
     "execution_count": 1,
     "metadata": {},
     "output_type": "execute_result"
    }
   ],
   "source": [
    "# 31. How to ignore all NumPy warnings (not recommended)?\n",
    "import numpy as np\n",
    "import warnings\n",
    "\n",
    "# Ignore all warnings\n",
    "warnings.filterwarnings(\"ignore\")\n",
    "\n",
    "# Another way using numpy\n",
    "np.seterr(all='ignore')\n"
   ]
  },
  {
   "cell_type": "code",
   "execution_count": 2,
   "metadata": {},
   "outputs": [
    {
     "name": "stdout",
     "output_type": "stream",
     "text": [
      "False\n"
     ]
    }
   ],
   "source": [
    "# 32. Is the following expression true?\n",
    "import numpy as np\n",
    "\n",
    "print(np.sqrt(-1) == np.emath.sqrt(-1))\n"
   ]
  },
  {
   "cell_type": "markdown",
   "metadata": {},
   "source": [
    "np.sqrt(-1) results in nan (Not a Number) because the standard NumPy square root function only works with real numbers.\n",
    "np.emath.sqrt(-1) correctly computes the square root in the complex number domain and returns 1j (imaginary unit).\n",
    "Since nan is not equal to 1j, the result is False."
   ]
  },
  {
   "cell_type": "code",
   "execution_count": 3,
   "metadata": {},
   "outputs": [
    {
     "name": "stdout",
     "output_type": "stream",
     "text": [
      "Yesterday: 2025-02-16\n",
      "Today: 2025-02-17\n",
      "Tomorrow: 2025-02-18\n"
     ]
    }
   ],
   "source": [
    "# 33. How to get the dates of yesterday, today, and tomorrow?\n",
    "import numpy as np\n",
    "import datetime\n",
    "\n",
    "today = np.datetime64('today', 'D')\n",
    "yesterday = today - np.timedelta64(1, 'D')\n",
    "tomorrow = today + np.timedelta64(1, 'D')\n",
    "\n",
    "print(\"Yesterday:\", yesterday)\n",
    "print(\"Today:\", today)\n",
    "print(\"Tomorrow:\", tomorrow)\n"
   ]
  },
  {
   "cell_type": "code",
   "execution_count": 4,
   "metadata": {},
   "outputs": [
    {
     "name": "stdout",
     "output_type": "stream",
     "text": [
      "['2016-07-01' '2016-07-02' '2016-07-03' '2016-07-04' '2016-07-05'\n",
      " '2016-07-06' '2016-07-07' '2016-07-08' '2016-07-09' '2016-07-10'\n",
      " '2016-07-11' '2016-07-12' '2016-07-13' '2016-07-14' '2016-07-15'\n",
      " '2016-07-16' '2016-07-17' '2016-07-18' '2016-07-19' '2016-07-20'\n",
      " '2016-07-21' '2016-07-22' '2016-07-23' '2016-07-24' '2016-07-25'\n",
      " '2016-07-26' '2016-07-27' '2016-07-28' '2016-07-29' '2016-07-30'\n",
      " '2016-07-31']\n"
     ]
    }
   ],
   "source": [
    "# 34. How to get all the dates corresponding to the month of July 2016?\n",
    "july_dates = np.arange('2016-07', '2016-08', dtype='datetime64[D]')\n",
    "print(july_dates)\n"
   ]
  },
  {
   "cell_type": "code",
   "execution_count": null,
   "metadata": {},
   "outputs": [
    {
     "name": "stdout",
     "output_type": "stream",
     "text": [
      "[-12.5 -24.5 -40.5]\n"
     ]
    }
   ],
   "source": [
    "# 35. How to compute ((A+B)*(-A/2)) in place (without copy)?\n",
    "\n",
    "\n",
    "A = np.array([1, 2, 3], dtype=float) \n",
    "B = np.array([4, 5, 6])\n",
    "\n",
    "A += B \n",
    "A *= -A / 2  \n",
    "print(A)\n"
   ]
  },
  {
   "cell_type": "code",
   "execution_count": 7,
   "metadata": {},
   "outputs": [
    {
     "name": "stdout",
     "output_type": "stream",
     "text": [
      "[9. 4. 1. 8. 0. 2. 7. 2. 3. 3.]\n",
      "[9. 4. 1. 8. 0. 2. 7. 2. 3. 3.]\n",
      "[9. 4. 1. 8. 0. 2. 7. 2. 3. 3.]\n",
      "[9 4 1 8 0 2 7 2 3 3]\n"
     ]
    }
   ],
   "source": [
    "# 36. Extract the integer part of a random array using 4 methods\n",
    "Z = np.random.uniform(0, 10, 10)\n",
    "\n",
    "print(Z - Z % 1)  \n",
    "print(np.floor(Z)) \n",
    "print(np.trunc(Z))  \n",
    "print(Z.astype(int))  \n"
   ]
  },
  {
   "cell_type": "code",
   "execution_count": 8,
   "metadata": {},
   "outputs": [
    {
     "name": "stdout",
     "output_type": "stream",
     "text": [
      "[[0 1 2 3 4]\n",
      " [0 1 2 3 4]\n",
      " [0 1 2 3 4]\n",
      " [0 1 2 3 4]\n",
      " [0 1 2 3 4]]\n"
     ]
    }
   ],
   "source": [
    "# 37. Create a 5x5 matrix with row values ranging from 0 to 4\n",
    "\n",
    "Z = np.tile(np.arange(5), (5, 1))\n",
    "print(Z)\n"
   ]
  },
  {
   "cell_type": "code",
   "execution_count": 9,
   "metadata": {},
   "outputs": [
    {
     "name": "stdout",
     "output_type": "stream",
     "text": [
      "[0 1 2 3 4 5 6 7 8 9]\n"
     ]
    }
   ],
   "source": [
    "# 38. Generator function that generates 10 integers and use it to build an array\n",
    "\n",
    "def generate():\n",
    "    for x in range(10):\n",
    "        yield x\n",
    "\n",
    "Z = np.fromiter(generate(), dtype=int)\n",
    "print(Z)"
   ]
  },
  {
   "cell_type": "code",
   "execution_count": 25,
   "metadata": {},
   "outputs": [
    {
     "name": "stdout",
     "output_type": "stream",
     "text": [
      "[0.85172452 0.04140565 0.80287337 0.90002263 0.93629484 0.6344594\n",
      " 0.87040131 0.86310709 0.67569085 0.93966112]\n"
     ]
    }
   ],
   "source": [
    "# 39. Create a vector of size 10 with values ranging from 0 to 1, both excluded\n",
    "\n",
    "Z = np.random.uniform(0, 1, 10)\n",
    "print(Z)\n"
   ]
  },
  {
   "cell_type": "code",
   "execution_count": 14,
   "metadata": {},
   "outputs": [
    {
     "name": "stdout",
     "output_type": "stream",
     "text": [
      "[ 0  4  9 13 27 49 64 73 75 90]\n"
     ]
    }
   ],
   "source": [
    "# 40. Create a random vector of size 10 and sort it\n",
    "\n",
    "Z = np.random.randint(0,101,size=(10))\n",
    "Z.sort()\n",
    "print(Z)"
   ]
  },
  {
   "cell_type": "code",
   "execution_count": 15,
   "metadata": {},
   "outputs": [
    {
     "name": "stdout",
     "output_type": "stream",
     "text": [
      "209\n"
     ]
    }
   ],
   "source": [
    "# 41. How to sum a small array faster than np.sum?\n",
    "\n",
    "Z = np.random.randint(0,50,size=(10))\n",
    "\n",
    "result = np.add.reduce(Z)\n",
    "print(result)"
   ]
  },
  {
   "cell_type": "code",
   "execution_count": 26,
   "metadata": {},
   "outputs": [
    {
     "name": "stdout",
     "output_type": "stream",
     "text": [
      "[1 1 1 0 0]\n",
      "[1 1 0 0 0]\n",
      "False\n"
     ]
    }
   ],
   "source": [
    "# 42. Check if two random arrays A and B are equal\n",
    "\n",
    "A = np.random.randint(0, 2, 5)\n",
    "B = np.random.randint(0, 2, 5)\n",
    "print(A)\n",
    "print(B)\n",
    "\n",
    "\n",
    "equal = np.array_equal(A, B)\n",
    "print(equal)"
   ]
  },
  {
   "cell_type": "code",
   "execution_count": 17,
   "metadata": {},
   "outputs": [
    {
     "ename": "ValueError",
     "evalue": "assignment destination is read-only",
     "output_type": "error",
     "traceback": [
      "\u001b[1;31m---------------------------------------------------------------------------\u001b[0m",
      "\u001b[1;31mValueError\u001b[0m                                Traceback (most recent call last)",
      "Cell \u001b[1;32mIn[17], line 5\u001b[0m\n\u001b[0;32m      3\u001b[0m Z \u001b[38;5;241m=\u001b[39m np\u001b[38;5;241m.\u001b[39mzeros(\u001b[38;5;241m10\u001b[39m)\n\u001b[0;32m      4\u001b[0m Z\u001b[38;5;241m.\u001b[39mflags\u001b[38;5;241m.\u001b[39mwriteable \u001b[38;5;241m=\u001b[39m \u001b[38;5;28;01mFalse\u001b[39;00m\n\u001b[1;32m----> 5\u001b[0m \u001b[43mZ\u001b[49m\u001b[43m[\u001b[49m\u001b[38;5;241;43m0\u001b[39;49m\u001b[43m]\u001b[49m \u001b[38;5;241m=\u001b[39m \u001b[38;5;241m1\u001b[39m \n",
      "\u001b[1;31mValueError\u001b[0m: assignment destination is read-only"
     ]
    }
   ],
   "source": [
    "# 43. Make an array immutable (read-only)\n",
    "\n",
    "Z = np.zeros(10)\n",
    "Z.flags.writeable = False\n",
    "Z[0] = 1 "
   ]
  },
  {
   "cell_type": "code",
   "execution_count": 21,
   "metadata": {},
   "outputs": [
    {
     "name": "stdout",
     "output_type": "stream",
     "text": [
      "[1.02348904 1.04362667 0.48649131 1.02679003 0.66213134 0.99817549\n",
      " 0.7479322  0.12673955 0.43575028 0.82227619] [0.74575568 0.3192588  0.3831854  0.61173926 0.82821149 0.9090599\n",
      " 0.65787267 0.34635572 1.30517397 0.56524371]\n"
     ]
    }
   ],
   "source": [
    "# 44. Convert a 10x2 matrix from Cartesian to polar coordinates\n",
    "\n",
    "Z = np.random.rand(10, 2)\n",
    "X, Y = Z[:, 0], Z[:, 1]\n",
    "R = np.sqrt(X**2 + Y**2)\n",
    "Theta = np.arctan2(Y, X)\n",
    "\n",
    "print(R, Theta)"
   ]
  },
  {
   "cell_type": "code",
   "execution_count": 22,
   "metadata": {},
   "outputs": [
    {
     "name": "stdout",
     "output_type": "stream",
     "text": [
      "[0.10651276 0.         0.69670221 0.35704742 0.3032592  0.66535135\n",
      " 0.46757927 0.85232193 0.07522813 0.35896583]\n"
     ]
    }
   ],
   "source": [
    "# 45. Replace the maximum value in a random vector with 0\n",
    "\n",
    "Z = np.random.rand(10)\n",
    "Z[Z.argmax()] = 0\n",
    "print(Z)"
   ]
  }
 ],
 "metadata": {
  "kernelspec": {
   "display_name": ".venv",
   "language": "python",
   "name": "python3"
  },
  "language_info": {
   "codemirror_mode": {
    "name": "ipython",
    "version": 3
   },
   "file_extension": ".py",
   "mimetype": "text/x-python",
   "name": "python",
   "nbconvert_exporter": "python",
   "pygments_lexer": "ipython3",
   "version": "3.13.1"
  }
 },
 "nbformat": 4,
 "nbformat_minor": 2
}
