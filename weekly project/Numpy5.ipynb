{
 "cells": [
  {
   "cell_type": "markdown",
   "metadata": {},
   "source": [
    "# Numpy Exercise 5\n",
    "\n",
    "### All of the questions in this exercise are attributed to rougier/numpy-100"
   ]
  },
  {
   "cell_type": "code",
   "execution_count": 1,
   "metadata": {},
   "outputs": [],
   "source": [
    "import numpy as np"
   ]
  },
  {
   "cell_type": "markdown",
   "metadata": {},
   "source": [
    "#### 61. Find the nearest value from a given value in an array (★★☆)"
   ]
  },
  {
   "cell_type": "code",
   "execution_count": 2,
   "metadata": {},
   "outputs": [
    {
     "name": "stdout",
     "output_type": "stream",
     "text": [
      "30\n"
     ]
    }
   ],
   "source": [
    "array = np.array([10, 20, 30, 40, 50])\n",
    "value = 27\n",
    "\n",
    "# Compute the absolute differences\n",
    "differences = np.abs(array - value)\n",
    "\n",
    "# Find the index of the minimum difference\n",
    "index = np.argmin(differences)\n",
    "\n",
    "# Get the nearest value\n",
    "nearest_value = array[index]\n",
    "\n",
    "print(nearest_value)  \n"
   ]
  },
  {
   "cell_type": "markdown",
   "metadata": {},
   "source": [
    "#### 62. Considering two arrays with shape (1,3) and (3,1), how to compute their sum using an iterator? (★★☆)"
   ]
  },
  {
   "cell_type": "code",
   "execution_count": 9,
   "metadata": {},
   "outputs": [
    {
     "name": "stdout",
     "output_type": "stream",
     "text": [
      "[[0 1 2]\n",
      " [1 2 3]\n",
      " [2 3 4]]\n"
     ]
    }
   ],
   "source": [
    "A = np.arange(3).reshape(1, 3)  # Shape (1,3)\n",
    "B = np.arange(3).reshape(3, 1)  # Shape (3,1)\n",
    "\n",
    "# Using an iterator to sum elements\n",
    "it = np.nditer([A, B, None])  # 'None' will store the result\n",
    "for x, y, z in it:\n",
    "    z[...] = x + y  # Store the sum in z\n",
    "print(it.operands[2])\n"
   ]
  },
  {
   "cell_type": "markdown",
   "metadata": {},
   "source": [
    "#### 63. Create an array class that has a name attribute (★★☆)"
   ]
  },
  {
   "cell_type": "code",
   "execution_count": 3,
   "metadata": {},
   "outputs": [
    {
     "name": "stdout",
     "output_type": "stream",
     "text": [
      "[1 2 3]\n"
     ]
    }
   ],
   "source": [
    "class NamedArray(np.ndarray):\n",
    "    def __new__(cls, array, name=\"default\"):\n",
    "        obj = np.asarray(array).view(cls)\n",
    "        obj.name = name\n",
    "        return obj\n",
    "\n",
    "    def __repr__(self):\n",
    "        return f\"NamedArray(name={self.name}, array={super().__repr__()})\"\n",
    "\n",
    "arr = NamedArray([1, 2, 3], name=\"MyArray\")\n",
    "print(arr)\n"
   ]
  },
  {
   "cell_type": "markdown",
   "metadata": {},
   "source": [
    "#### 64. Consider a given vector, how to add 1 to each element indexed by a second vector (be careful with repeated indices)? (★★★)"
   ]
  },
  {
   "cell_type": "code",
   "execution_count": 4,
   "metadata": {},
   "outputs": [
    {
     "name": "stdout",
     "output_type": "stream",
     "text": [
      "[0. 1. 0. 3. 0. 1. 0. 0. 0. 0.]\n"
     ]
    }
   ],
   "source": [
    "Z = np.zeros(10)  # Vector of zeros\n",
    "indices = np.array([1, 3, 3, 5, 3])  # Indices where we add 1\n",
    "\n",
    "np.add.at(Z, indices, 1)  # Add 1 at specified positions\n",
    "\n",
    "print(Z)\n"
   ]
  },
  {
   "cell_type": "markdown",
   "metadata": {},
   "source": [
    "#### 65. How to accumulate elements of a vector (X) to an array (F) based on an index list (I)? (★★★)"
   ]
  },
  {
   "cell_type": "code",
   "execution_count": 5,
   "metadata": {},
   "outputs": [
    {
     "name": "stdout",
     "output_type": "stream",
     "text": [
      "[1. 6. 8.]\n"
     ]
    }
   ],
   "source": [
    "X = np.array([1, 2, 3, 4, 5])  # Values to accumulate\n",
    "I = np.array([0, 1, 2, 1, 2])  # Indices in F\n",
    "F = np.zeros(3)  # Output array\n",
    "\n",
    "np.add.at(F, I, X)  # Accumulate values in F\n",
    "\n",
    "print(F) \n"
   ]
  },
  {
   "cell_type": "markdown",
   "metadata": {},
   "source": [
    "#### 66. Considering a (w,h,3) image of (dtype=ubyte), compute the number of unique colors (★★☆)"
   ]
  },
  {
   "cell_type": "code",
   "execution_count": 6,
   "metadata": {},
   "outputs": [
    {
     "name": "stdout",
     "output_type": "stream",
     "text": [
      "65407\n"
     ]
    }
   ],
   "source": [
    "import numpy as np\n",
    "\n",
    "w, h = 256, 256\n",
    "image = np.random.randint(0, 256, size=(w, h, 3), dtype=np.uint8)  # Ensure correct syntax\n",
    "\n",
    "# Reshape the image to a 2D array where each row is a color (RGB triplet)\n",
    "colors = image.reshape(-1, 3)\n",
    "\n",
    "# Find unique colors\n",
    "unique_colors = np.unique(colors, axis=0)\n",
    "\n",
    "print(len(unique_colors))  # Number of unique colors in the image\n"
   ]
  },
  {
   "cell_type": "markdown",
   "metadata": {},
   "source": [
    "#### 67. Considering a four dimensions array, how to get sum over the last two axis at once? (★★★)"
   ]
  },
  {
   "cell_type": "code",
   "execution_count": 7,
   "metadata": {},
   "outputs": [
    {
     "name": "stdout",
     "output_type": "stream",
     "text": [
      "(3, 4)\n"
     ]
    }
   ],
   "source": [
    "A = np.random.rand(3, 4, 5, 6)  # Example 4D array\n",
    "result = A.sum(axis=(-2, -1))  # Sum over last two axes\n",
    "\n",
    "print(result.shape)  \n"
   ]
  },
  {
   "cell_type": "markdown",
   "metadata": {},
   "source": [
    "#### 68. Considering a one-dimensional vector D, how to compute means of subsets of D using a vector S of same size describing subset  indices? (★★★)"
   ]
  },
  {
   "cell_type": "code",
   "execution_count": 8,
   "metadata": {},
   "outputs": [
    {
     "name": "stdout",
     "output_type": "stream",
     "text": [
      "[4.2 nan 3.6]\n"
     ]
    },
    {
     "name": "stderr",
     "output_type": "stream",
     "text": [
      "C:\\Users\\Admin\\AppData\\Local\\Temp\\ipykernel_15632\\2094621257.py:6: RuntimeWarning: invalid value encountered in divide\n",
      "  means = np.bincount(S, weights=D) / np.bincount(S)\n"
     ]
    }
   ],
   "source": [
    "\n",
    "import numpy as np\n",
    "\n",
    "D = np.random.randint(0, 10, 10)  # Random vector\n",
    "S = np.random.randint(0, 3, 10)   # Subset indices (3 subsets)\n",
    "\n",
    "means = np.bincount(S, weights=D) / np.bincount(S)\n",
    "print(means)\n",
    "\n",
    "\n"
   ]
  },
  {
   "cell_type": "markdown",
   "metadata": {},
   "source": [
    "#### 69. How to get the diagonal of a dot product? (★★★)"
   ]
  },
  {
   "cell_type": "code",
   "execution_count": 9,
   "metadata": {},
   "outputs": [
    {
     "name": "stdout",
     "output_type": "stream",
     "text": [
      "[60 64  8 88]\n"
     ]
    }
   ],
   "source": [
    "A = np.random.randint(0, 10, (4, 4))\n",
    "B = np.random.randint(0, 10, (4, 4))\n",
    "\n",
    "diagonal = np.einsum(\"ij,ji->i\", A, B)\n",
    "print(diagonal)\n"
   ]
  },
  {
   "cell_type": "markdown",
   "metadata": {},
   "source": [
    "#### 70. Consider the vector [1, 2, 3, 4, 5], how to build a new vector with 3 consecutive zeros interleaved between each value? (★★★)"
   ]
  },
  {
   "cell_type": "code",
   "execution_count": 11,
   "metadata": {},
   "outputs": [
    {
     "name": "stdout",
     "output_type": "stream",
     "text": [
      "[1 0 0 0 2 0 0 0 3 0 0 0 4 0 0 0 5]\n"
     ]
    }
   ],
   "source": [
    "Z = np.array([1, 2, 3, 4, 5])\n",
    "new_Z = np.zeros(len(Z) + (len(Z) - 1) * 3, dtype=int)\n",
    "new_Z[::4] = Z\n",
    "print(new_Z)\n"
   ]
  },
  {
   "cell_type": "markdown",
   "metadata": {},
   "source": [
    "#### 71. Consider an array of dimension (5,5,3), how to mulitply it by an array with dimensions (5,5)? (★★★)"
   ]
  },
  {
   "cell_type": "code",
   "execution_count": 12,
   "metadata": {},
   "outputs": [
    {
     "name": "stdout",
     "output_type": "stream",
     "text": [
      "(5, 5, 3)\n"
     ]
    }
   ],
   "source": [
    "A = np.random.rand(5, 5, 3)\n",
    "B = np.random.rand(5, 5)\n",
    "\n",
    "result = A * B[:, :, None]  # Expanding B to match A's dimensions\n",
    "print(result.shape)\n"
   ]
  },
  {
   "cell_type": "markdown",
   "metadata": {},
   "source": [
    "#### 72. How to swap two rows of an array? (★★★)"
   ]
  },
  {
   "cell_type": "code",
   "execution_count": 13,
   "metadata": {},
   "outputs": [
    {
     "name": "stdout",
     "output_type": "stream",
     "text": [
      "[[ 5  6  7  8  9]\n",
      " [ 0  1  2  3  4]\n",
      " [10 11 12 13 14]\n",
      " [15 16 17 18 19]\n",
      " [20 21 22 23 24]]\n"
     ]
    }
   ],
   "source": [
    "A = np.arange(25).reshape(5, 5)\n",
    "A[[0, 1]] = A[[1, 0]]  # Swap row 0 and row 1\n",
    "print(A)\n"
   ]
  },
  {
   "cell_type": "markdown",
   "metadata": {},
   "source": [
    "#### 73. Consider a set of 10 triplets describing 10 triangles (with shared vertices), find the set of unique line segments composing all the  triangles (★★★)"
   ]
  },
  {
   "cell_type": "code",
   "execution_count": 14,
   "metadata": {},
   "outputs": [
    {
     "name": "stdout",
     "output_type": "stream",
     "text": [
      "[[ 0  8]\n",
      " [ 0 14]\n",
      " [ 2  3]\n",
      " [ 2 11]\n",
      " [ 3  4]\n",
      " [ 3  8]\n",
      " [ 3 11]\n",
      " [ 3 12]\n",
      " [ 3 18]\n",
      " [ 4  9]\n",
      " [ 4 12]\n",
      " [ 4 13]\n",
      " [ 5 14]\n",
      " [ 5 19]\n",
      " [ 8 14]\n",
      " [ 8 18]\n",
      " [ 9 12]\n",
      " [ 9 13]\n",
      " [ 9 15]\n",
      " [12 14]\n",
      " [12 15]\n",
      " [12 16]\n",
      " [13 15]\n",
      " [13 16]\n",
      " [14 16]\n",
      " [14 19]\n",
      " [15 16]\n",
      " [15 17]\n",
      " [15 18]\n",
      " [17 18]]\n"
     ]
    }
   ],
   "source": [
    "triangles = np.random.randint(0, 20, (10, 3))\n",
    "edges = np.sort(np.array([(a, b) for t in triangles for a, b in zip(t, np.roll(t, 1))]), axis=1)\n",
    "unique_edges = np.unique(edges, axis=0)\n",
    "print(unique_edges)\n"
   ]
  },
  {
   "cell_type": "markdown",
   "metadata": {},
   "source": [
    "#### 74. Given a sorted array C that corresponds to a bincount, how to produce an array A such that np.bincount(A) == C? (★★★)"
   ]
  },
  {
   "cell_type": "code",
   "execution_count": 15,
   "metadata": {},
   "outputs": [
    {
     "name": "stdout",
     "output_type": "stream",
     "text": [
      "[0 0 1 1 1 3]\n"
     ]
    }
   ],
   "source": [
    "C = np.array([2, 3, 0, 1])\n",
    "A = np.repeat(np.arange(len(C)), C)\n",
    "print(A)\n"
   ]
  },
  {
   "cell_type": "markdown",
   "metadata": {},
   "source": [
    "#### 75. How to compute averages using a sliding window over an array? (★★★)"
   ]
  },
  {
   "cell_type": "code",
   "execution_count": 16,
   "metadata": {},
   "outputs": [
    {
     "name": "stdout",
     "output_type": "stream",
     "text": [
      "[1. 2. 3. 4. 5. 6. 7. 8.]\n"
     ]
    }
   ],
   "source": [
    "Z = np.arange(10)\n",
    "window_size = 3\n",
    "mean_Z = np.convolve(Z, np.ones(window_size)/window_size, mode='valid')\n",
    "print(mean_Z)\n"
   ]
  },
  {
   "cell_type": "markdown",
   "metadata": {},
   "source": [
    "#### 76. Consider a one-dimensional array Z, build a two-dimensional array whose first row is (Z[0],Z[1],Z[2]) and each subsequent row is  shifted by 1 (last row should be (Z[-3],Z[-2],Z[-1]) (★★★)"
   ]
  },
  {
   "cell_type": "code",
   "execution_count": 17,
   "metadata": {},
   "outputs": [
    {
     "name": "stdout",
     "output_type": "stream",
     "text": [
      "[[0 1 2]\n",
      " [1 2 3]\n",
      " [2 3 4]\n",
      " [3 4 5]\n",
      " [4 5 6]\n",
      " [5 6 7]\n",
      " [6 7 8]\n",
      " [7 8 9]]\n"
     ]
    }
   ],
   "source": [
    "Z = np.arange(10)\n",
    "window = 3\n",
    "shape = (Z.size - window + 1, window)\n",
    "strides = (Z.strides[0], Z.strides[0])\n",
    "\n",
    "result = np.lib.stride_tricks.as_strided(Z, shape=shape, strides=strides)\n",
    "print(result)\n"
   ]
  },
  {
   "cell_type": "markdown",
   "metadata": {},
   "source": [
    "#### 77. How to negate a boolean, or to change the sign of a float inplace? (★★★)"
   ]
  },
  {
   "cell_type": "code",
   "execution_count": 18,
   "metadata": {},
   "outputs": [
    {
     "name": "stdout",
     "output_type": "stream",
     "text": [
      "[False  True False]\n",
      "[-1.   2.5 -3.4]\n"
     ]
    }
   ],
   "source": [
    "Z = np.array([True, False, True])\n",
    "Z = ~Z  # Boolean negation\n",
    "print(Z)\n",
    "\n",
    "F = np.array([1.0, -2.5, 3.4])\n",
    "F *= -1  # In-place negation\n",
    "print(F)\n"
   ]
  },
  {
   "cell_type": "markdown",
   "metadata": {},
   "source": [
    "#### 78. Consider 2 sets of points P0,P1 describing lines (2d) and a point p, how to compute distance from p to each line i (P0[i],P1[i])? (★★★)"
   ]
  },
  {
   "cell_type": "code",
   "execution_count": 19,
   "metadata": {},
   "outputs": [
    {
     "name": "stdout",
     "output_type": "stream",
     "text": [
      "[0.83947023 0.86750271 0.45553242 0.31795576 1.02435841]\n"
     ]
    }
   ],
   "source": [
    "P0 = np.random.rand(5, 2)\n",
    "P1 = np.random.rand(5, 2)\n",
    "p = np.random.rand(2)\n",
    "\n",
    "line_vec = P1 - P0\n",
    "point_vec = P0 - p\n",
    "proj = np.sum(point_vec * line_vec, axis=1) / np.sum(line_vec ** 2, axis=1)\n",
    "nearest = P0 + proj[:, None] * line_vec\n",
    "dist = np.linalg.norm(nearest - p, axis=1)\n",
    "print(dist)\n"
   ]
  },
  {
   "cell_type": "markdown",
   "metadata": {},
   "source": [
    "#### 79. Consider 2 sets of points P0,P1 describing lines (2d) and a set of points P, how to compute distance from each point j (P[j]) to each line i (P0[i],P1[i])? (★★★)"
   ]
  },
  {
   "cell_type": "code",
   "execution_count": 20,
   "metadata": {},
   "outputs": [
    {
     "name": "stdout",
     "output_type": "stream",
     "text": [
      "[[0.2118311  0.39352739 0.02601151 0.126288   0.05264106]\n",
      " [0.42956368 0.6800144  0.33329266 0.3648502  0.03647149]\n",
      " [0.26300392 0.02407694 0.10942126 0.54843072 0.50412062]\n",
      " [0.15764545 0.05685573 0.22582319 0.27318016 0.23586086]\n",
      " [0.3858354  0.58166941 0.14922483 0.16631517 0.101473  ]\n",
      " [0.28684308 0.07520743 0.33500759 0.27162859 0.29456882]\n",
      " [0.10798114 0.29078556 0.1044196  0.13763252 0.00458444]\n",
      " [0.2420805  0.539371   0.31470095 0.5508319  0.27168743]\n",
      " [0.03821564 0.10858307 0.31781477 0.01494839 0.02536362]\n",
      " [0.21881776 0.12022927 0.59166105 0.15037913 0.07333541]]\n"
     ]
    }
   ],
   "source": [
    "P = np.random.rand(10, 2)  # 10 points\n",
    "distances = np.array([np.linalg.norm((P0 + ((np.sum((P - P0) * (P1 - P0), axis=1) / np.sum((P1 - P0) ** 2, axis=1))[:, None] * (P1 - P0))) - P, axis=1) for P in P])\n",
    "print(distances)\n"
   ]
  },
  {
   "cell_type": "markdown",
   "metadata": {},
   "source": [
    "#### 80. Consider an arbitrary array, write a function that extract a subpart with a fixed shape and centered on a given element (pad with a `fill` value when necessary) (★★★)"
   ]
  },
  {
   "cell_type": "code",
   "execution_count": 21,
   "metadata": {},
   "outputs": [
    {
     "name": "stdout",
     "output_type": "stream",
     "text": [
      "[[8 2 6 8 2]\n",
      " [7 3 5 2 9]\n",
      " [0 6 2 8 3]\n",
      " [3 6 1 7 1]\n",
      " [3 6 8 7 1]]\n"
     ]
    }
   ],
   "source": [
    "def extract_subarray(arr, center, shape, fill_value=0):\n",
    "    out = np.full(shape, fill_value, dtype=arr.dtype)\n",
    "    slices = tuple(slice(max(c - s//2, 0), min(c - s//2 + s, arr.shape[i])) for i, (c, s) in enumerate(zip(center, shape)))\n",
    "    out_slices = tuple(slice(0, s.stop - s.start) for s in slices)\n",
    "    out[out_slices] = arr[slices]\n",
    "    return out\n",
    "\n",
    "A = np.random.randint(0, 10, (10, 10))\n",
    "print(extract_subarray(A, (5, 5), (5, 5), fill_value=-1))\n"
   ]
  },
  {
   "cell_type": "markdown",
   "metadata": {},
   "source": [
    "#### 81. Consider an array Z = [1,2,3,4,5,6,7,8,9,10,11,12,13,14], how to generate an array R = [[1,2,3,4], [2,3,4,5], [3,4,5,6], ..., [11,12,13,14]]? (★★★)"
   ]
  },
  {
   "cell_type": "code",
   "execution_count": 22,
   "metadata": {},
   "outputs": [
    {
     "name": "stdout",
     "output_type": "stream",
     "text": [
      "[[ 1  2  3  4]\n",
      " [ 2  3  4  5]\n",
      " [ 3  4  5  6]\n",
      " [ 4  5  6  7]\n",
      " [ 5  6  7  8]\n",
      " [ 6  7  8  9]\n",
      " [ 7  8  9 10]\n",
      " [ 8  9 10 11]\n",
      " [ 9 10 11 12]\n",
      " [10 11 12 13]\n",
      " [11 12 13 14]]\n"
     ]
    }
   ],
   "source": [
    "Z = np.arange(1, 15)\n",
    "R = np.lib.stride_tricks.sliding_window_view(Z, 4)\n",
    "print(R)\n"
   ]
  },
  {
   "cell_type": "markdown",
   "metadata": {},
   "source": [
    "#### 82. Compute a matrix rank (★★★)"
   ]
  },
  {
   "cell_type": "code",
   "execution_count": 23,
   "metadata": {},
   "outputs": [
    {
     "name": "stdout",
     "output_type": "stream",
     "text": [
      "5\n"
     ]
    }
   ],
   "source": [
    "A = np.random.rand(5, 5)\n",
    "rank = np.linalg.matrix_rank(A)\n",
    "print(rank)\n"
   ]
  },
  {
   "cell_type": "markdown",
   "metadata": {},
   "source": [
    "#### 83. How to find the most frequent value in an array?"
   ]
  },
  {
   "cell_type": "code",
   "execution_count": 24,
   "metadata": {},
   "outputs": [
    {
     "name": "stdout",
     "output_type": "stream",
     "text": [
      "0\n"
     ]
    }
   ],
   "source": [
    "Z = np.random.randint(0, 10, 100)\n",
    "most_frequent = np.bincount(Z).argmax()\n",
    "print(most_frequent)\n"
   ]
  },
  {
   "cell_type": "markdown",
   "metadata": {},
   "source": [
    "#### 84. Extract all the contiguous 3x3 blocks from a random 10x10 matrix (★★★)"
   ]
  },
  {
   "cell_type": "code",
   "execution_count": 25,
   "metadata": {},
   "outputs": [
    {
     "name": "stdout",
     "output_type": "stream",
     "text": [
      "(8, 8, 3, 3)\n"
     ]
    }
   ],
   "source": [
    "A = np.random.randint(0, 10, (10, 10))\n",
    "blocks = np.lib.stride_tricks.sliding_window_view(A, (3, 3))\n",
    "print(blocks.shape)\n"
   ]
  },
  {
   "cell_type": "markdown",
   "metadata": {},
   "source": [
    "#### 85. Create a 2D array subclass such that Z[i,j] == Z[j,i] (★★★)"
   ]
  },
  {
   "cell_type": "code",
   "execution_count": 26,
   "metadata": {},
   "outputs": [
    {
     "name": "stdout",
     "output_type": "stream",
     "text": [
      "[[0. 0. 0. 0. 0.]\n",
      " [0. 0. 5. 0. 0.]\n",
      " [0. 5. 0. 0. 0.]\n",
      " [0. 0. 0. 0. 0.]\n",
      " [0. 0. 0. 0. 0.]]\n"
     ]
    }
   ],
   "source": [
    "class SymmetricArray(np.ndarray):\n",
    "    def __setitem__(self, index, value):\n",
    "        super().__setitem__((index[1], index[0]), value)\n",
    "        super().__setitem__(index, value)\n",
    "\n",
    "Z = np.zeros((5, 5)).view(SymmetricArray)\n",
    "Z[1, 2] = 5\n",
    "print(Z)\n"
   ]
  },
  {
   "cell_type": "markdown",
   "metadata": {},
   "source": [
    "#### 86. Consider a set of p matrices wich shape (n,n) and a set of p vectors with shape (n,1). How to compute the sum of of the p matrix products at once? (result has shape (n,1)) (★★★)"
   ]
  },
  {
   "cell_type": "code",
   "execution_count": null,
   "metadata": {},
   "outputs": [
    {
     "data": {
      "text/plain": [
       "<function __main__.sum_matrix_products(matrices, vectors)>"
      ]
     },
     "execution_count": 34,
     "metadata": {},
     "output_type": "execute_result"
    }
   ],
   "source": [
    "def sum_matrix_products(matrices, vectors):\n",
    "    return np.einsum('ijk,ik->j', matrices, vectors)\n",
    "sum_matrix_products\n"
   ]
  },
  {
   "cell_type": "markdown",
   "metadata": {},
   "source": [
    "#### 87. Consider a 16x16 array, how to get the block-sum (block size is 4x4)? (★★★)"
   ]
  },
  {
   "cell_type": "code",
   "execution_count": 32,
   "metadata": {},
   "outputs": [
    {
     "name": "stdout",
     "output_type": "stream",
     "text": [
      "[[8.36998912 7.81080048 8.47353375 6.83723513]\n",
      " [7.59475147 9.38445736 7.71378964 6.05543306]\n",
      " [8.95674409 8.19553674 7.09527617 7.92720671]\n",
      " [8.75945811 8.02004987 8.41200202 7.79073277]]\n"
     ]
    }
   ],
   "source": [
    "Z = np.random.rand(16, 16)\n",
    "block_sum = Z.reshape(4, 4, 4, 4).sum(axis=(1, 3))\n",
    "print(block_sum)\n"
   ]
  },
  {
   "cell_type": "markdown",
   "metadata": {},
   "source": [
    "#### 88. How to implement the Game of Life using numpy arrays? (★★★)"
   ]
  },
  {
   "cell_type": "code",
   "execution_count": 35,
   "metadata": {},
   "outputs": [],
   "source": [
    "def game_of_life_step(Z):\n",
    "    neighbors = sum(np.roll(np.roll(Z, i, 0), j, 1)\n",
    "                    for i in (-1, 0, 1) for j in (-1, 0, 1) if (i, j) != (0, 0))\n",
    "    return (neighbors == 3) | (Z & (neighbors == 2))"
   ]
  },
  {
   "cell_type": "markdown",
   "metadata": {},
   "source": [
    "#### 89. How to get the n largest values of an array (★★★)"
   ]
  },
  {
   "cell_type": "code",
   "execution_count": 37,
   "metadata": {},
   "outputs": [
    {
     "data": {
      "text/plain": [
       "array([0.76160375, 0.80028966, 0.8199154 , 0.88208389, 0.99114587])"
      ]
     },
     "execution_count": 37,
     "metadata": {},
     "output_type": "execute_result"
    }
   ],
   "source": [
    "# 89. Get n largest values of an array\n",
    "Z = np.random.rand(10)\n",
    "n_largest = Z[np.argpartition(Z, -5)[-5:]]\n",
    "n_largest"
   ]
  },
  {
   "cell_type": "markdown",
   "metadata": {},
   "source": [
    "#### 90. Given an arbitrary number of vectors, build the cartesian product (every combinations of every item) (★★★)"
   ]
  },
  {
   "cell_type": "code",
   "execution_count": 40,
   "metadata": {},
   "outputs": [],
   "source": [
    "# 90. Compute Cartesian product of multiple vectors\n",
    "from itertools import product\n",
    "def cartesian_product(*arrays):\n",
    "    return np.array(list(product(*arrays)))\n"
   ]
  },
  {
   "cell_type": "markdown",
   "metadata": {},
   "source": [
    "#### 91. How to create a record array from a regular array? (★★★)"
   ]
  },
  {
   "cell_type": "code",
   "execution_count": 41,
   "metadata": {},
   "outputs": [],
   "source": [
    "def to_record_array(array, dtype):\n",
    "    return np.array(list(map(tuple, array)), dtype=dtype)"
   ]
  },
  {
   "cell_type": "markdown",
   "metadata": {},
   "source": [
    "#### 92. Consider a large vector Z, compute Z to the power of 3 using 3 different methods (★★★)"
   ]
  },
  {
   "cell_type": "code",
   "execution_count": 43,
   "metadata": {},
   "outputs": [
    {
     "data": {
      "text/plain": [
       "[array([0.93110054, 0.33062667, 0.47920627, ..., 0.1471123 , 0.11071914,\n",
       "        0.00339914], shape=(10000,)),\n",
       " array([0.93110054, 0.33062667, 0.47920627, ..., 0.1471123 , 0.11071914,\n",
       "        0.00339914], shape=(10000,)),\n",
       " array([0.93110054, 0.33062667, 0.47920627, ..., 0.1471123 , 0.11071914,\n",
       "        0.00339914], shape=(10000,))]"
      ]
     },
     "execution_count": 43,
     "metadata": {},
     "output_type": "execute_result"
    }
   ],
   "source": [
    "# 92. Compute Z^3 using 3 different methods\n",
    "Z = np.random.rand(10000)\n",
    "z3_methods = [Z**3, np.power(Z, 3), np.einsum('i,i,i->i', Z, Z, Z)]\n",
    "z3_methods"
   ]
  },
  {
   "cell_type": "markdown",
   "metadata": {},
   "source": [
    "#### 93. Consider two arrays A and B of shape (8,3) and (2,2). How to find rows of A that contain elements of each row of B regardless of the order of the elements in B? (★★★)"
   ]
  },
  {
   "cell_type": "code",
   "execution_count": 2,
   "metadata": {},
   "outputs": [],
   "source": [
    "# 93. Find rows of A containing elements of each row of B\n",
    "import numpy as np\n",
    "A = np.random.randint(0, 10, (8, 3))\n",
    "B = np.random.randint(0, 10, (2, 2))\n",
    "mask = np.array([np.all(np.isin(B[i], A), axis=0) for i in range(B.shape[0])])\n",
    "matching_rows = A[np.any(mask, axis=0)]"
   ]
  },
  {
   "cell_type": "code",
   "execution_count": 3,
   "metadata": {},
   "outputs": [
    {
     "data": {
      "text/plain": [
       "array([[[3, 4, 6],\n",
       "        [3, 5, 6],\n",
       "        [2, 6, 6],\n",
       "        [5, 4, 8],\n",
       "        [4, 9, 6],\n",
       "        [4, 0, 8],\n",
       "        [9, 2, 7],\n",
       "        [9, 9, 7]]], dtype=int32)"
      ]
     },
     "execution_count": 3,
     "metadata": {},
     "output_type": "execute_result"
    }
   ],
   "source": [
    "matching_rows"
   ]
  },
  {
   "cell_type": "markdown",
   "metadata": {},
   "source": [
    "#### 94. Considering a 10x3 matrix, extract rows with unequal values (e.g. [2,2,3]) (★★★)"
   ]
  },
  {
   "cell_type": "code",
   "execution_count": 46,
   "metadata": {},
   "outputs": [
    {
     "data": {
      "text/plain": [
       "array([[2, 0, 0],\n",
       "       [2, 0, 3],\n",
       "       [3, 2, 1],\n",
       "       [1, 2, 1],\n",
       "       [1, 3, 3],\n",
       "       [0, 1, 2],\n",
       "       [0, 3, 1],\n",
       "       [1, 4, 0],\n",
       "       [1, 2, 0],\n",
       "       [1, 3, 1]], dtype=int32)"
      ]
     },
     "execution_count": 46,
     "metadata": {},
     "output_type": "execute_result"
    }
   ],
   "source": [
    "# 94. Extract rows with unequal values\n",
    "Z = np.random.randint(0, 5, (10, 3))\n",
    "unique_rows = Z[(Z[:, 0] != Z[:, 1]) | (Z[:, 1] != Z[:, 2])]\n",
    "unique_rows\n"
   ]
  },
  {
   "cell_type": "markdown",
   "metadata": {},
   "source": [
    "#### 95. Convert a vector of ints into a matrix binary representation (★★★)"
   ]
  },
  {
   "cell_type": "code",
   "execution_count": 48,
   "metadata": {},
   "outputs": [
    {
     "data": {
      "text/plain": [
       "array([[1, 0, 0, 0, 0, 0, 0, 0],\n",
       "       [0, 1, 0, 0, 0, 0, 0, 0],\n",
       "       [1, 1, 0, 0, 0, 0, 0, 0],\n",
       "       [0, 0, 1, 0, 0, 0, 0, 0],\n",
       "       [1, 0, 1, 0, 0, 0, 0, 0]])"
      ]
     },
     "execution_count": 48,
     "metadata": {},
     "output_type": "execute_result"
    }
   ],
   "source": [
    "V = np.array([1, 2, 3, 4, 5])\n",
    "binary_matrix = ((V[:, None] & (1 << np.arange(8))) > 0).astype(int)\n",
    "binary_matrix"
   ]
  },
  {
   "cell_type": "markdown",
   "metadata": {},
   "source": [
    "#### 96. Given a two dimensional array, how to extract unique rows? (★★★)"
   ]
  },
  {
   "cell_type": "code",
   "execution_count": 49,
   "metadata": {},
   "outputs": [
    {
     "data": {
      "text/plain": [
       "array([[0, 2, 0],\n",
       "       [0, 3, 3],\n",
       "       [1, 0, 3],\n",
       "       [1, 1, 3],\n",
       "       [1, 3, 4],\n",
       "       [3, 0, 1],\n",
       "       [4, 1, 1],\n",
       "       [4, 1, 3],\n",
       "       [4, 4, 2]], dtype=int32)"
      ]
     },
     "execution_count": 49,
     "metadata": {},
     "output_type": "execute_result"
    }
   ],
   "source": [
    "Z = np.random.randint(0, 5, (10, 3))\n",
    "unique_Z = np.unique(Z, axis=0)\n",
    "unique_Z"
   ]
  },
  {
   "cell_type": "markdown",
   "metadata": {},
   "source": [
    "#### 97. Considering 2 vectors A & B, write the einsum equivalent of inner, outer, sum, and mul function (★★★)"
   ]
  },
  {
   "cell_type": "code",
   "execution_count": 51,
   "metadata": {},
   "outputs": [
    {
     "data": {
      "text/plain": [
       "(array([0.33698874, 0.70435604, 0.31443026, 0.49594046, 0.6533659 ]),\n",
       " array([0.79886128, 0.31690803, 0.27177694, 0.28022672, 0.03613072]))"
      ]
     },
     "execution_count": 51,
     "metadata": {},
     "output_type": "execute_result"
    }
   ],
   "source": [
    "A, B = np.random.rand(5), np.random.rand(5)\n",
    "inner = np.einsum('i,i->', A, B)\n",
    "outer = np.einsum('i,j->ij', A, B)\n",
    "sum_all = np.einsum('i->', A)\n",
    "mul = np.einsum('i,i->i', A, B)\n",
    "A,B"
   ]
  },
  {
   "cell_type": "markdown",
   "metadata": {},
   "source": [
    "#### 98. Considering a path described by two vectors (X,Y), how to sample it using equidistant samples (★★★)?"
   ]
  },
  {
   "cell_type": "code",
   "execution_count": 55,
   "metadata": {},
   "outputs": [
    {
     "data": {
      "text/plain": [
       "array([[0.28142877, 0.66483953],\n",
       "       [0.37915647, 0.60945936],\n",
       "       [0.47688417, 0.55407918],\n",
       "       [0.49581011, 0.49825895],\n",
       "       [0.50488583, 0.4423837 ],\n",
       "       [0.61912299, 0.55197172],\n",
       "       [0.76340629, 0.70883496],\n",
       "       [0.66648478, 0.64138137],\n",
       "       [0.44896089, 0.46176935],\n",
       "       [0.34318699, 0.4602722 ],\n",
       "       [0.32681311, 0.60126694],\n",
       "       [0.28590723, 0.74066394],\n",
       "       [0.21433637, 0.87806378],\n",
       "       [0.29289834, 0.87268851],\n",
       "       [0.67172601, 0.58176304],\n",
       "       [0.94576412, 0.32518425],\n",
       "       [0.85303878, 0.18881883],\n",
       "       [0.75698424, 0.10648244],\n",
       "       [0.63429613, 0.45637838],\n",
       "       [0.51160802, 0.80627431]])"
      ]
     },
     "execution_count": 55,
     "metadata": {},
     "output_type": "execute_result"
    }
   ],
   "source": [
    "X, Y = np.random.rand(10), np.random.rand(10)\n",
    "from scipy.interpolate import interp1d\n",
    "interp_func = interp1d(np.linspace(0, 1, len(X)), np.c_[X, Y], kind='linear', axis=0)\n",
    "sampled_points = interp_func(np.linspace(0, 1, 20))\n",
    "sampled_points"
   ]
  },
  {
   "cell_type": "markdown",
   "metadata": {},
   "source": [
    "#### 99. Given an integer n and a 2D array X, select from X the rows which can be interpreted as draws from a multinomial distribution with n degrees, i.e., the rows which only contain integers and which sum to n. (★★★)"
   ]
  },
  {
   "cell_type": "code",
   "execution_count": 56,
   "metadata": {},
   "outputs": [
    {
     "data": {
      "text/plain": [
       "array([[0, 2, 0, 0, 3]], dtype=int32)"
      ]
     },
     "execution_count": 56,
     "metadata": {},
     "output_type": "execute_result"
    }
   ],
   "source": [
    "X = np.random.randint(0, 4, (10, 5))\n",
    "n = 5\n",
    "valid_rows = X[np.all(X >= 0, axis=1) & (X.sum(axis=1) == n)]\n",
    "valid_rows"
   ]
  },
  {
   "cell_type": "markdown",
   "metadata": {},
   "source": [
    "#### 100. Compute bootstrapped 95% confidence intervals for the mean of a 1D array X (i.e., resample the elements of an array with replacement N times, compute the mean of each sample, and then compute percentiles over the means). (★★★)"
   ]
  },
  {
   "cell_type": "code",
   "execution_count": 57,
   "metadata": {},
   "outputs": [
    {
     "data": {
      "text/plain": [
       "array([0.48060094, 0.51535506])"
      ]
     },
     "execution_count": 57,
     "metadata": {},
     "output_type": "execute_result"
    }
   ],
   "source": [
    "X = np.random.rand(1000)\n",
    "N = 1000\n",
    "means = np.random.choice(X, (N, len(X)), replace=True).mean(axis=1)\n",
    "conf_intervals = np.percentile(means, [2.5, 97.5])\n",
    "conf_intervals"
   ]
  },
  {
   "cell_type": "code",
   "execution_count": null,
   "metadata": {},
   "outputs": [],
   "source": []
  }
 ],
 "metadata": {
  "kernelspec": {
   "display_name": ".venv",
   "language": "python",
   "name": "python3"
  },
  "language_info": {
   "codemirror_mode": {
    "name": "ipython",
    "version": 3
   },
   "file_extension": ".py",
   "mimetype": "text/x-python",
   "name": "python",
   "nbconvert_exporter": "python",
   "pygments_lexer": "ipython3",
   "version": "3.13.2"
  }
 },
 "nbformat": 4,
 "nbformat_minor": 4
}
