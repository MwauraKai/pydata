{
 "cells": [
  {
   "cell_type": "code",
   "execution_count": 1,
   "metadata": {},
   "outputs": [],
   "source": [
    "import pandas as pd\n",
    "import numpy as np"
   ]
  },
  {
   "cell_type": "code",
   "execution_count": 3,
   "metadata": {},
   "outputs": [],
   "source": [
    "ksl=pd.read_csv(r'C:\\Users\\Admin\\OneDrive\\Desktop\\pydata\\kenya_primary_schools.csv')"
   ]
  },
  {
   "cell_type": "code",
   "execution_count": 4,
   "metadata": {},
   "outputs": [
    {
     "data": {
      "text/html": [
       "<div>\n",
       "<style scoped>\n",
       "    .dataframe tbody tr th:only-of-type {\n",
       "        vertical-align: middle;\n",
       "    }\n",
       "\n",
       "    .dataframe tbody tr th {\n",
       "        vertical-align: top;\n",
       "    }\n",
       "\n",
       "    .dataframe thead th {\n",
       "        text-align: right;\n",
       "    }\n",
       "</style>\n",
       "<table border=\"1\" class=\"dataframe\">\n",
       "  <thead>\n",
       "    <tr style=\"text-align: right;\">\n",
       "      <th></th>\n",
       "      <th>X</th>\n",
       "      <th>Y</th>\n",
       "      <th>FID</th>\n",
       "      <th>Name_of_Sc</th>\n",
       "      <th>Level_</th>\n",
       "      <th>Status</th>\n",
       "      <th>SchSponsor</th>\n",
       "      <th>Type1</th>\n",
       "      <th>Type2</th>\n",
       "      <th>Type3</th>\n",
       "      <th>...</th>\n",
       "      <th>OthersF</th>\n",
       "      <th>NoTeaching</th>\n",
       "      <th>NonTeachin</th>\n",
       "      <th>Province</th>\n",
       "      <th>District</th>\n",
       "      <th>Division</th>\n",
       "      <th>Location</th>\n",
       "      <th>Costituenc</th>\n",
       "      <th>Latitude</th>\n",
       "      <th>Longitude</th>\n",
       "    </tr>\n",
       "  </thead>\n",
       "  <tbody>\n",
       "    <tr>\n",
       "      <th>0</th>\n",
       "      <td>36.14</td>\n",
       "      <td>0.27</td>\n",
       "      <td>10001</td>\n",
       "      <td>CHEBIREBEI PRI</td>\n",
       "      <td>PRIMARY SCHOOL</td>\n",
       "      <td>PUBLIC</td>\n",
       "      <td>RELIGIOUS ORGANIZATION</td>\n",
       "      <td>MIXED</td>\n",
       "      <td>DAY ONLY</td>\n",
       "      <td>ORDINARY</td>\n",
       "      <td>...</td>\n",
       "      <td>0.0</td>\n",
       "      <td>0.0</td>\n",
       "      <td>0.0</td>\n",
       "      <td>RIFT VALLEY</td>\n",
       "      <td>KOIBATEK</td>\n",
       "      <td>KISANANA</td>\n",
       "      <td>MOGOTIO</td>\n",
       "      <td>SINENDE</td>\n",
       "      <td>0.27</td>\n",
       "      <td>36.14</td>\n",
       "    </tr>\n",
       "    <tr>\n",
       "      <th>1</th>\n",
       "      <td>36.17</td>\n",
       "      <td>0.26</td>\n",
       "      <td>10002</td>\n",
       "      <td>WASEGES PRI</td>\n",
       "      <td>PRIMARY SCHOOL</td>\n",
       "      <td>PUBLIC</td>\n",
       "      <td>RELIGIOUS ORGANIZATION</td>\n",
       "      <td>MIXED</td>\n",
       "      <td>DAY ONLY</td>\n",
       "      <td>ORDINARY</td>\n",
       "      <td>...</td>\n",
       "      <td>0.0</td>\n",
       "      <td>1.0</td>\n",
       "      <td>1.0</td>\n",
       "      <td>RIFT VALLEY</td>\n",
       "      <td>KOIBATEK</td>\n",
       "      <td>KISANANA</td>\n",
       "      <td>MOGOTIO</td>\n",
       "      <td>SINENDE</td>\n",
       "      <td>0.26</td>\n",
       "      <td>36.17</td>\n",
       "    </tr>\n",
       "    <tr>\n",
       "      <th>2</th>\n",
       "      <td>36.18</td>\n",
       "      <td>0.24</td>\n",
       "      <td>10003</td>\n",
       "      <td>KIRIBOT PRI</td>\n",
       "      <td>PRIMARY SCHOOL</td>\n",
       "      <td>PUBLIC</td>\n",
       "      <td>COMMUNITY</td>\n",
       "      <td>MIXED</td>\n",
       "      <td>DAY ONLY</td>\n",
       "      <td>ORDINARY</td>\n",
       "      <td>...</td>\n",
       "      <td>0.0</td>\n",
       "      <td>1.0</td>\n",
       "      <td>1.0</td>\n",
       "      <td>RIFT VALLEY</td>\n",
       "      <td>KOIBATEK</td>\n",
       "      <td>KISANANA</td>\n",
       "      <td>MOGOTIO</td>\n",
       "      <td>KABUSWO</td>\n",
       "      <td>0.24</td>\n",
       "      <td>36.18</td>\n",
       "    </tr>\n",
       "    <tr>\n",
       "      <th>3</th>\n",
       "      <td>36.19</td>\n",
       "      <td>0.21</td>\n",
       "      <td>10004</td>\n",
       "      <td>KABUSWO PRI SCH</td>\n",
       "      <td>PRIMARY SCHOOL</td>\n",
       "      <td>PUBLIC</td>\n",
       "      <td>COMMUNITY</td>\n",
       "      <td>MIXED</td>\n",
       "      <td>DAY ONLY</td>\n",
       "      <td>ORDINARY</td>\n",
       "      <td>...</td>\n",
       "      <td>0.0</td>\n",
       "      <td>2.0</td>\n",
       "      <td>0.0</td>\n",
       "      <td>RIFT VALLEY</td>\n",
       "      <td>KOIBATEK</td>\n",
       "      <td>KISANANA</td>\n",
       "      <td>MOGOTIO</td>\n",
       "      <td>KABUSWO</td>\n",
       "      <td>0.21</td>\n",
       "      <td>36.19</td>\n",
       "    </tr>\n",
       "    <tr>\n",
       "      <th>4</th>\n",
       "      <td>37.70</td>\n",
       "      <td>-0.88</td>\n",
       "      <td>10005</td>\n",
       "      <td>VONDENI PRI SCHOOL</td>\n",
       "      <td>PRIMARY SCHOOL</td>\n",
       "      <td>PUBLIC</td>\n",
       "      <td>COMMUNITY</td>\n",
       "      <td>MIXED</td>\n",
       "      <td>DAY ONLY</td>\n",
       "      <td>ORDINARY</td>\n",
       "      <td>...</td>\n",
       "      <td>0.0</td>\n",
       "      <td>1.0</td>\n",
       "      <td>1.0</td>\n",
       "      <td>EASTERN</td>\n",
       "      <td>MACHAKOS</td>\n",
       "      <td>MASINGA</td>\n",
       "      <td>KIVAA</td>\n",
       "      <td>MASINGA</td>\n",
       "      <td>-0.88</td>\n",
       "      <td>37.70</td>\n",
       "    </tr>\n",
       "  </tbody>\n",
       "</table>\n",
       "<p>5 rows × 38 columns</p>\n",
       "</div>"
      ],
      "text/plain": [
       "       X     Y    FID          Name_of_Sc          Level_  Status  \\\n",
       "0  36.14  0.27  10001      CHEBIREBEI PRI  PRIMARY SCHOOL  PUBLIC   \n",
       "1  36.17  0.26  10002         WASEGES PRI  PRIMARY SCHOOL  PUBLIC   \n",
       "2  36.18  0.24  10003         KIRIBOT PRI  PRIMARY SCHOOL  PUBLIC   \n",
       "3  36.19  0.21  10004     KABUSWO PRI SCH  PRIMARY SCHOOL  PUBLIC   \n",
       "4  37.70 -0.88  10005  VONDENI PRI SCHOOL  PRIMARY SCHOOL  PUBLIC   \n",
       "\n",
       "               SchSponsor  Type1     Type2     Type3  ...  OthersF  \\\n",
       "0  RELIGIOUS ORGANIZATION  MIXED  DAY ONLY  ORDINARY  ...      0.0   \n",
       "1  RELIGIOUS ORGANIZATION  MIXED  DAY ONLY  ORDINARY  ...      0.0   \n",
       "2               COMMUNITY  MIXED  DAY ONLY  ORDINARY  ...      0.0   \n",
       "3               COMMUNITY  MIXED  DAY ONLY  ORDINARY  ...      0.0   \n",
       "4               COMMUNITY  MIXED  DAY ONLY  ORDINARY  ...      0.0   \n",
       "\n",
       "   NoTeaching  NonTeachin     Province  District  Division  Location  \\\n",
       "0         0.0         0.0  RIFT VALLEY  KOIBATEK  KISANANA   MOGOTIO   \n",
       "1         1.0         1.0  RIFT VALLEY  KOIBATEK  KISANANA   MOGOTIO   \n",
       "2         1.0         1.0  RIFT VALLEY  KOIBATEK  KISANANA   MOGOTIO   \n",
       "3         2.0         0.0  RIFT VALLEY  KOIBATEK  KISANANA   MOGOTIO   \n",
       "4         1.0         1.0      EASTERN  MACHAKOS   MASINGA     KIVAA   \n",
       "\n",
       "   Costituenc  Latitude  Longitude  \n",
       "0     SINENDE      0.27      36.14  \n",
       "1     SINENDE      0.26      36.17  \n",
       "2     KABUSWO      0.24      36.18  \n",
       "3     KABUSWO      0.21      36.19  \n",
       "4     MASINGA     -0.88      37.70  \n",
       "\n",
       "[5 rows x 38 columns]"
      ]
     },
     "execution_count": 4,
     "metadata": {},
     "output_type": "execute_result"
    }
   ],
   "source": [
    "ksl.head(5)"
   ]
  },
  {
   "cell_type": "code",
   "execution_count": 5,
   "metadata": {},
   "outputs": [
    {
     "data": {
      "text/plain": [
       "Index(['X', 'Y', 'FID', 'Name_of_Sc', 'Level_', 'Status', 'SchSponsor',\n",
       "       'Type1', 'Type2', 'Type3', 'PupilTeach', 'ClassrmRat', 'ToiletRati',\n",
       "       'No_Classrm', 'BoysToilet', 'GirlsToilet', 'TeachersTo', 'TotalToile',\n",
       "       'TotalBoys', 'TotalGirls', 'TotalEnrol', 'GO_KTSC_M', 'GOK_TSC_F',\n",
       "       'authorityM', 'authorityF', 'PTA_BOG_M', 'PTA_BOG_F', 'OthersM',\n",
       "       'OthersF', 'NoTeaching', 'NonTeachin', 'Province', 'District',\n",
       "       'Division', 'Location', 'Costituenc', 'Latitude', 'Longitude'],\n",
       "      dtype='object')"
      ]
     },
     "execution_count": 5,
     "metadata": {},
     "output_type": "execute_result"
    }
   ],
   "source": [
    "ksl.columns"
   ]
  },
  {
   "cell_type": "code",
   "execution_count": 6,
   "metadata": {},
   "outputs": [
    {
     "data": {
      "text/plain": [
       "Index(['x', 'y', 'fid', 'name_of_sc', 'level_', 'status', 'schsponsor',\n",
       "       'type1', 'type2', 'type3', 'pupilteach', 'classrmrat', 'toiletrati',\n",
       "       'no_classrm', 'boystoilet', 'girlstoilet', 'teachersto', 'totaltoile',\n",
       "       'totalboys', 'totalgirls', 'totalenrol', 'go_ktsc_m', 'gok_tsc_f',\n",
       "       'authoritym', 'authorityf', 'pta_bog_m', 'pta_bog_f', 'othersm',\n",
       "       'othersf', 'noteaching', 'nonteachin', 'province', 'district',\n",
       "       'division', 'location', 'costituenc', 'latitude', 'longitude'],\n",
       "      dtype='object')"
      ]
     },
     "execution_count": 6,
     "metadata": {},
     "output_type": "execute_result"
    }
   ],
   "source": [
    "ksl.columns=ksl.columns.str.lower().str.replace(' ', '_')\n",
    "ksl.columns"
   ]
  },
  {
   "cell_type": "code",
   "execution_count": 8,
   "metadata": {},
   "outputs": [
    {
     "data": {
      "text/plain": [
       "x              0\n",
       "y              0\n",
       "fid            0\n",
       "name_of_sc     1\n",
       "level_         1\n",
       "status         1\n",
       "schsponsor     1\n",
       "type1          1\n",
       "type2          1\n",
       "type3          1\n",
       "pupilteach     1\n",
       "classrmrat     1\n",
       "toiletrati     1\n",
       "no_classrm     1\n",
       "boystoilet     1\n",
       "girlstoilet    1\n",
       "teachersto     1\n",
       "totaltoile     1\n",
       "totalboys      1\n",
       "totalgirls     1\n",
       "totalenrol     1\n",
       "go_ktsc_m      1\n",
       "gok_tsc_f      1\n",
       "authoritym     1\n",
       "authorityf     1\n",
       "pta_bog_m      1\n",
       "pta_bog_f      1\n",
       "othersm        1\n",
       "othersf        1\n",
       "noteaching     1\n",
       "nonteachin     1\n",
       "province       1\n",
       "district       1\n",
       "division       1\n",
       "location       1\n",
       "costituenc     1\n",
       "latitude       1\n",
       "longitude      1\n",
       "dtype: int64"
      ]
     },
     "execution_count": 8,
     "metadata": {},
     "output_type": "execute_result"
    }
   ],
   "source": [
    "ksl.isnull().sum()"
   ]
  },
  {
   "cell_type": "code",
   "execution_count": 9,
   "metadata": {},
   "outputs": [
    {
     "data": {
      "text/plain": [
       "<Axes: >"
      ]
     },
     "execution_count": 9,
     "metadata": {},
     "output_type": "execute_result"
    },
    {
     "data": {
      "image/png": "[encoded data removed]",
      "text/plain": [
       "<Figure size 2500x1000 with 2 Axes>"
      ]
     },
     "metadata": {},
     "output_type": "display_data"
    }
   ],
   "source": [
    "import missingno as msno\n",
    "msno.matrix(ksl)\n"
   ]
  },
  {
   "cell_type": "code",
   "execution_count": 10,
   "metadata": {},
   "outputs": [],
   "source": [
    "ksl.dropna(inplace=True)"
   ]
  },
  {
   "cell_type": "code",
   "execution_count": 11,
   "metadata": {},
   "outputs": [
    {
     "data": {
      "text/plain": [
       "x              0\n",
       "y              0\n",
       "fid            0\n",
       "name_of_sc     0\n",
       "level_         0\n",
       "status         0\n",
       "schsponsor     0\n",
       "type1          0\n",
       "type2          0\n",
       "type3          0\n",
       "pupilteach     0\n",
       "classrmrat     0\n",
       "toiletrati     0\n",
       "no_classrm     0\n",
       "boystoilet     0\n",
       "girlstoilet    0\n",
       "teachersto     0\n",
       "totaltoile     0\n",
       "totalboys      0\n",
       "totalgirls     0\n",
       "totalenrol     0\n",
       "go_ktsc_m      0\n",
       "gok_tsc_f      0\n",
       "authoritym     0\n",
       "authorityf     0\n",
       "pta_bog_m      0\n",
       "pta_bog_f      0\n",
       "othersm        0\n",
       "othersf        0\n",
       "noteaching     0\n",
       "nonteachin     0\n",
       "province       0\n",
       "district       0\n",
       "division       0\n",
       "location       0\n",
       "costituenc     0\n",
       "latitude       0\n",
       "longitude      0\n",
       "dtype: int64"
      ]
     },
     "execution_count": 11,
     "metadata": {},
     "output_type": "execute_result"
    }
   ],
   "source": [
    "ksl.isnull().sum()"
   ]
  },
  {
   "cell_type": "code",
   "execution_count": 14,
   "metadata": {},
   "outputs": [
    {
     "name": "stdout",
     "output_type": "stream",
     "text": [
      "Average enrollment per province: province\n",
      "CENTRAL          292.86\n",
      "COAST            388.62\n",
      "Central           58.00\n",
      "EASTERN          283.87\n",
      "NAIROBI          269.99\n",
      "NORTH EASTERN    251.75\n",
      "NYANZA           290.57\n",
      "RIFT VALLEY      304.92\n",
      "WESTERN          458.65\n",
      "Name: totalenrol, dtype: float64\n"
     ]
    }
   ],
   "source": [
    "# Calculate the average enrolment per province\n",
    "avg_enroll_per_province = ksl.groupby('province')['totalenrol'].mean()\n",
    "print(\"Average enrollment per province:\", avg_enroll_per_province.round(2))\n"
   ]
  },
  {
   "cell_type": "code",
   "execution_count": 19,
   "metadata": {},
   "outputs": [
    {
     "name": "stdout",
     "output_type": "stream",
     "text": [
      "Province with highest enrollment is : WESTERN\n"
     ]
    }
   ],
   "source": [
    "# Find the province with the highest average enrolment\n",
    "highest_enroll_province=avg_enroll_per_province.idxmax()\n",
    "print('Province with highest enrollment is :',highest_enroll_province)"
   ]
  },
  {
   "cell_type": "code",
   "execution_count": 35,
   "metadata": {},
   "outputs": [
    {
     "data": {
      "text/plain": [
       "province\n",
       "COAST    15192.0\n",
       "Name: no_classrm, dtype: float64"
      ]
     },
     "execution_count": 35,
     "metadata": {},
     "output_type": "execute_result"
    }
   ],
   "source": [
    "# Schools in Coast province most in need of classrooms\n",
    "coast_schools = ksl[ksl['province'] == 'COAST'].groupby('province')['no_classrm'].sum()\n",
    "coast_schools"
   ]
  },
  {
   "cell_type": "code",
   "execution_count": null,
   "metadata": {},
   "outputs": [
    {
     "data": {
      "text/html": [
       "<div>\n",
       "<style scoped>\n",
       "    .dataframe tbody tr th:only-of-type {\n",
       "        vertical-align: middle;\n",
       "    }\n",
       "\n",
       "    .dataframe tbody tr th {\n",
       "        vertical-align: top;\n",
       "    }\n",
       "\n",
       "    .dataframe thead th {\n",
       "        text-align: right;\n",
       "    }\n",
       "</style>\n",
       "<table border=\"1\" class=\"dataframe\">\n",
       "  <thead>\n",
       "    <tr style=\"text-align: right;\">\n",
       "      <th></th>\n",
       "      <th>name_of_sc</th>\n",
       "      <th>no_classrm</th>\n",
       "    </tr>\n",
       "  </thead>\n",
       "  <tbody>\n",
       "    <tr>\n",
       "      <th>3012</th>\n",
       "      <td>KACHORORONI PRI</td>\n",
       "      <td>0.0</td>\n",
       "    </tr>\n",
       "    <tr>\n",
       "      <th>3043</th>\n",
       "      <td>NDIGIRIA PRI</td>\n",
       "      <td>0.0</td>\n",
       "    </tr>\n",
       "    <tr>\n",
       "      <th>3044</th>\n",
       "      <td>SITA HIDDEN ACADEMY</td>\n",
       "      <td>0.0</td>\n",
       "    </tr>\n",
       "    <tr>\n",
       "      <th>3049</th>\n",
       "      <td>MIRIHINI PRI</td>\n",
       "      <td>0.0</td>\n",
       "    </tr>\n",
       "    <tr>\n",
       "      <th>3051</th>\n",
       "      <td>CHURCH OF CHRIST SCH</td>\n",
       "      <td>0.0</td>\n",
       "    </tr>\n",
       "    <tr>\n",
       "      <th>3110</th>\n",
       "      <td>ONKOLDE  PRIMARY</td>\n",
       "      <td>0.0</td>\n",
       "    </tr>\n",
       "    <tr>\n",
       "      <th>3137</th>\n",
       "      <td>SERA  PRIMARY SCH</td>\n",
       "      <td>0.0</td>\n",
       "    </tr>\n",
       "  </tbody>\n",
       "</table>\n",
       "</div>"
      ],
      "text/plain": [
       "                name_of_sc  no_classrm\n",
       "3012       KACHORORONI PRI         0.0\n",
       "3043          NDIGIRIA PRI         0.0\n",
       "3044   SITA HIDDEN ACADEMY         0.0\n",
       "3049          MIRIHINI PRI         0.0\n",
       "3051  CHURCH OF CHRIST SCH         0.0\n",
       "3110      ONKOLDE  PRIMARY         0.0\n",
       "3137     SERA  PRIMARY SCH         0.0"
      ]
     },
     "execution_count": 30,
     "metadata": {},
     "output_type": "execute_result"
    }
   ],
   "source": [
    "# Schools in Coast province most in need of classrooms \n",
    "coast_schools_need_classrooms = ksl[ksl['province'] == 'COAST'].nsmallest(7, 'no_classrm')\n",
    "coast_schools_need_classrooms[['name_of_sc', 'no_classrm']]"
   ]
  },
  {
   "cell_type": "code",
   "execution_count": 32,
   "metadata": {},
   "outputs": [
    {
     "data": {
      "text/html": [
       "<div>\n",
       "<style scoped>\n",
       "    .dataframe tbody tr th:only-of-type {\n",
       "        vertical-align: middle;\n",
       "    }\n",
       "\n",
       "    .dataframe tbody tr th {\n",
       "        vertical-align: top;\n",
       "    }\n",
       "\n",
       "    .dataframe thead th {\n",
       "        text-align: right;\n",
       "    }\n",
       "</style>\n",
       "<table border=\"1\" class=\"dataframe\">\n",
       "  <thead>\n",
       "    <tr style=\"text-align: right;\">\n",
       "      <th></th>\n",
       "      <th>name_of_sc</th>\n",
       "      <th>teachersto</th>\n",
       "    </tr>\n",
       "  </thead>\n",
       "  <tbody>\n",
       "    <tr>\n",
       "      <th>7</th>\n",
       "      <td>KABERGEI PRI</td>\n",
       "      <td>0.0</td>\n",
       "    </tr>\n",
       "    <tr>\n",
       "      <th>97</th>\n",
       "      <td>EMMANUEL ACADEMY PRI SCH</td>\n",
       "      <td>0.0</td>\n",
       "    </tr>\n",
       "    <tr>\n",
       "      <th>115</th>\n",
       "      <td>ARAMA PRI</td>\n",
       "      <td>0.0</td>\n",
       "    </tr>\n",
       "    <tr>\n",
       "      <th>136</th>\n",
       "      <td>NARONYO PRI</td>\n",
       "      <td>0.0</td>\n",
       "    </tr>\n",
       "    <tr>\n",
       "      <th>156</th>\n",
       "      <td>KINGS JUNIOR PRI</td>\n",
       "      <td>0.0</td>\n",
       "    </tr>\n",
       "  </tbody>\n",
       "</table>\n",
       "</div>"
      ],
      "text/plain": [
       "                   name_of_sc  teachersto\n",
       "7                KABERGEI PRI         0.0\n",
       "97   EMMANUEL ACADEMY PRI SCH         0.0\n",
       "115                 ARAMA PRI         0.0\n",
       "136               NARONYO PRI         0.0\n",
       "156          KINGS JUNIOR PRI         0.0"
      ]
     },
     "execution_count": 32,
     "metadata": {},
     "output_type": "execute_result"
    }
   ],
   "source": [
    "# Schools in Rift Valley most in need of sanitation for teachers\n",
    "rift_valley_sanitation_teachers = ksl[ksl['province'] == 'RIFT VALLEY'].nsmallest(5, 'teachersto')\n",
    "rift_valley_sanitation_teachers[['name_of_sc', 'teachersto']]\n"
   ]
  },
  {
   "cell_type": "code",
   "execution_count": 33,
   "metadata": {},
   "outputs": [
    {
     "data": {
      "text/html": [
       "<div>\n",
       "<style scoped>\n",
       "    .dataframe tbody tr th:only-of-type {\n",
       "        vertical-align: middle;\n",
       "    }\n",
       "\n",
       "    .dataframe tbody tr th {\n",
       "        vertical-align: top;\n",
       "    }\n",
       "\n",
       "    .dataframe thead th {\n",
       "        text-align: right;\n",
       "    }\n",
       "</style>\n",
       "<table border=\"1\" class=\"dataframe\">\n",
       "  <thead>\n",
       "    <tr style=\"text-align: right;\">\n",
       "      <th></th>\n",
       "      <th>name_of_sc</th>\n",
       "      <th>totaltoile</th>\n",
       "    </tr>\n",
       "  </thead>\n",
       "  <tbody>\n",
       "    <tr>\n",
       "      <th>2112</th>\n",
       "      <td>KINOO PRIMARY</td>\n",
       "      <td>0.0</td>\n",
       "    </tr>\n",
       "    <tr>\n",
       "      <th>2115</th>\n",
       "      <td>SUENI JUNIOR ACEDEMY PRIMARY</td>\n",
       "      <td>0.0</td>\n",
       "    </tr>\n",
       "    <tr>\n",
       "      <th>2117</th>\n",
       "      <td>SOON BIG BRAIN ACADEMY PRI</td>\n",
       "      <td>0.0</td>\n",
       "    </tr>\n",
       "    <tr>\n",
       "      <th>2119</th>\n",
       "      <td>JEDDY VISION PRI</td>\n",
       "      <td>0.0</td>\n",
       "    </tr>\n",
       "    <tr>\n",
       "      <th>2121</th>\n",
       "      <td>SATHYA SAI PRIMARY SCHOOL</td>\n",
       "      <td>0.0</td>\n",
       "    </tr>\n",
       "  </tbody>\n",
       "</table>\n",
       "</div>"
      ],
      "text/plain": [
       "                        name_of_sc  totaltoile\n",
       "2112                 KINOO PRIMARY         0.0\n",
       "2115  SUENI JUNIOR ACEDEMY PRIMARY         0.0\n",
       "2117    SOON BIG BRAIN ACADEMY PRI         0.0\n",
       "2119              JEDDY VISION PRI         0.0\n",
       "2121     SATHYA SAI PRIMARY SCHOOL         0.0"
      ]
     },
     "execution_count": 33,
     "metadata": {},
     "output_type": "execute_result"
    }
   ],
   "source": [
    "# Schools in Central most in need of sanitation for students\n",
    "central_sanitation_students = ksl[ksl['province'] == 'CENTRAL'].nsmallest(5, 'totaltoile')\n",
    "central_sanitation_students[['name_of_sc', 'totaltoile']]"
   ]
  },
  {
   "cell_type": "code",
   "execution_count": 41,
   "metadata": {},
   "outputs": [
    {
     "name": "stdout",
     "output_type": "stream",
     "text": [
      "District in Nairobi with highest number of schools:\n",
      " NAIROBI\n"
     ]
    }
   ],
   "source": [
    "# District in Nairobi County with highest number of schools\n",
    "nairobi_data = ksl[ksl['province'] == 'NAIROBI']  \n",
    "\n",
    "#  Group by district and count unique school names  \n",
    "nairobi_district_counts = nairobi_data.groupby('district')['name_of_sc'].nunique()  \n",
    "\n",
    "# Find the district with the highest number of unique school names  \n",
    "highest_schools_district = nairobi_district_counts.idxmax()  \n",
    "  \n",
    "print(\"District in Nairobi with highest number of schools:\\n\", highest_schools_district)  "
   ]
  },
  {
   "cell_type": "code",
   "execution_count": 42,
   "metadata": {},
   "outputs": [
    {
     "data": {
      "text/plain": [
       "schsponsor\n",
       "                               0.00\n",
       "CENTRAL GOVERNMENT/DEB        34.59\n",
       "COMMUNITY                     21.80\n",
       "LOCAL GOVERNMENT AUTHORITY    41.67\n",
       "NGO/CBO                       19.21\n",
       "PRIVATE INDIVIDUAL            10.86\n",
       "RELIGIOUS ORGANIZATION        16.03\n",
       "Name: pupilteach, dtype: float64"
      ]
     },
     "execution_count": 42,
     "metadata": {},
     "output_type": "execute_result"
    }
   ],
   "source": [
    "# Average pupil-teacher ratio by sponsorship type in Nairobi\n",
    "pupil_teacher_ratio = ksl[ksl['province'] == 'NAIROBI'].groupby('schsponsor')['pupilteach'].mean().round(2)\n",
    "pupil_teacher_ratio\n"
   ]
  },
  {
   "cell_type": "code",
   "execution_count": 43,
   "metadata": {},
   "outputs": [
    {
     "data": {
      "text/plain": [
       "Index(['x', 'y', 'fid', 'name_of_sc', 'level_', 'status', 'schsponsor',\n",
       "       'type1', 'type2', 'type3', 'pupilteach', 'classrmrat', 'toiletrati',\n",
       "       'no_classrm', 'boystoilet', 'girlstoilet', 'teachersto', 'totaltoile',\n",
       "       'totalboys', 'totalgirls', 'totalenrol', 'go_ktsc_m', 'gok_tsc_f',\n",
       "       'authoritym', 'authorityf', 'pta_bog_m', 'pta_bog_f', 'othersm',\n",
       "       'othersf', 'noteaching', 'nonteachin', 'province', 'district',\n",
       "       'division', 'location', 'costituenc', 'latitude', 'longitude',\n",
       "       'total_school_staff'],\n",
       "      dtype='object')"
      ]
     },
     "execution_count": 43,
     "metadata": {},
     "output_type": "execute_result"
    }
   ],
   "source": [
    "ksl['total_school_staff']=ksl['noteaching']+ ksl['nonteachin']\n",
    "ksl.columns"
   ]
  },
  {
   "cell_type": "code",
   "execution_count": 45,
   "metadata": {},
   "outputs": [
    {
     "data": {
      "text/html": [
       "<div>\n",
       "<style scoped>\n",
       "    .dataframe tbody tr th:only-of-type {\n",
       "        vertical-align: middle;\n",
       "    }\n",
       "\n",
       "    .dataframe tbody tr th {\n",
       "        vertical-align: top;\n",
       "    }\n",
       "\n",
       "    .dataframe thead th {\n",
       "        text-align: right;\n",
       "    }\n",
       "</style>\n",
       "<table border=\"1\" class=\"dataframe\">\n",
       "  <thead>\n",
       "    <tr style=\"text-align: right;\">\n",
       "      <th></th>\n",
       "      <th></th>\n",
       "      <th>no_classrm</th>\n",
       "      <th>totalenrol</th>\n",
       "    </tr>\n",
       "    <tr>\n",
       "      <th>province</th>\n",
       "      <th>district</th>\n",
       "      <th></th>\n",
       "      <th></th>\n",
       "    </tr>\n",
       "  </thead>\n",
       "  <tbody>\n",
       "    <tr>\n",
       "      <th rowspan=\"5\" valign=\"top\">CENTRAL</th>\n",
       "      <th>KIAMBU</th>\n",
       "      <td>11.300000</td>\n",
       "      <td>305.573585</td>\n",
       "    </tr>\n",
       "    <tr>\n",
       "      <th>KIRINYAGA</th>\n",
       "      <td>10.802564</td>\n",
       "      <td>283.541026</td>\n",
       "    </tr>\n",
       "    <tr>\n",
       "      <th>MARAGUA</th>\n",
       "      <td>12.696970</td>\n",
       "      <td>373.872054</td>\n",
       "    </tr>\n",
       "    <tr>\n",
       "      <th>MURANGA</th>\n",
       "      <td>11.509615</td>\n",
       "      <td>282.041667</td>\n",
       "    </tr>\n",
       "    <tr>\n",
       "      <th>NYANDARUA</th>\n",
       "      <td>10.836518</td>\n",
       "      <td>314.505308</td>\n",
       "    </tr>\n",
       "    <tr>\n",
       "      <th>...</th>\n",
       "      <th>...</th>\n",
       "      <td>...</td>\n",
       "      <td>...</td>\n",
       "    </tr>\n",
       "    <tr>\n",
       "      <th rowspan=\"5\" valign=\"top\">WESTERN</th>\n",
       "      <th>KAKAMEGA</th>\n",
       "      <td>9.945652</td>\n",
       "      <td>448.580435</td>\n",
       "    </tr>\n",
       "    <tr>\n",
       "      <th>LUGARI</th>\n",
       "      <td>10.386243</td>\n",
       "      <td>446.079365</td>\n",
       "    </tr>\n",
       "    <tr>\n",
       "      <th>MT ELGON</th>\n",
       "      <td>7.617450</td>\n",
       "      <td>247.134228</td>\n",
       "    </tr>\n",
       "    <tr>\n",
       "      <th>TESO</th>\n",
       "      <td>9.131034</td>\n",
       "      <td>455.144828</td>\n",
       "    </tr>\n",
       "    <tr>\n",
       "      <th>VIHIGA</th>\n",
       "      <td>10.875949</td>\n",
       "      <td>416.508861</td>\n",
       "    </tr>\n",
       "  </tbody>\n",
       "</table>\n",
       "<p>72 rows × 2 columns</p>\n",
       "</div>"
      ],
      "text/plain": [
       "                    no_classrm  totalenrol\n",
       "province district                         \n",
       "CENTRAL  KIAMBU      11.300000  305.573585\n",
       "         KIRINYAGA   10.802564  283.541026\n",
       "         MARAGUA     12.696970  373.872054\n",
       "         MURANGA     11.509615  282.041667\n",
       "         NYANDARUA   10.836518  314.505308\n",
       "...                        ...         ...\n",
       "WESTERN  KAKAMEGA     9.945652  448.580435\n",
       "         LUGARI      10.386243  446.079365\n",
       "         MT ELGON     7.617450  247.134228\n",
       "         TESO         9.131034  455.144828\n",
       "         VIHIGA      10.875949  416.508861\n",
       "\n",
       "[72 rows x 2 columns]"
      ]
     },
     "execution_count": 45,
     "metadata": {},
     "output_type": "execute_result"
    }
   ],
   "source": [
    "# Create pivot table for average classrooms and enrolment by Province and District\n",
    "pivot_table = ksl.pivot_table(values=['no_classrm', 'totalenrol'], index=['province', 'district'], aggfunc='mean')\n",
    "pivot_table"
   ]
  }
 ],
 "metadata": {
  "kernelspec": {
   "display_name": ".venv",
   "language": "python",
   "name": "python3"
  },
  "language_info": {
   "codemirror_mode": {
    "name": "ipython",
    "version": 3
   },
   "file_extension": ".py",
   "mimetype": "text/x-python",
   "name": "python",
   "nbconvert_exporter": "python",
   "pygments_lexer": "ipython3",
   "version": "3.13.2"
  }
 },
 "nbformat": 4,
 "nbformat_minor": 2
}
